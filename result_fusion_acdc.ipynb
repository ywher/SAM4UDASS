{
 "cells": [
  {
   "cell_type": "code",
   "execution_count": 1,
   "metadata": {},
   "outputs": [],
   "source": [
    "# import the needed packages\n",
    "# from result_fusion import Fusion\n",
    "from result_fusion import Fusion_ACDC\n",
    "import os\n",
    "import cv2\n",
    "from matplotlib import pyplot as plt\n",
    "import numpy as np\n",
    "from tools.iou_perimg import SegmentationMetrics\n",
    "import tqdm\n",
    "from config import config_acdc as config"
   ]
  },
  {
   "cell_type": "code",
   "execution_count": 2,
   "metadata": {},
   "outputs": [],
   "source": [
    "\n",
    "# define the folder path and parameters\n",
    "# train2 is the folder of the generated mask, preciser\n",
    "# train is the folder of the generated mask, default sam params\n",
    "mask_folder = config.mask_folder\n",
    "# the path to the model prediction\n",
    "# segmentation_root = '/media/ywh/1/yanweihao/projects/uda/DAFormer/work_dirs'\n",
    "segmentation_folder = config.segmentation_folder\n",
    "confidence_folder = config.confidence_folder\n",
    "entropy_folder = config.entropy_folder\n",
    "# segmentation_folder = '/media/ywh/1/yanweihao/projects/uda/MIC/seg/work_dirs/local-basic/230509_1455_gtaHR2csHR_mic_hrda_s2_108c1/pred_trainid'\n",
    "# the path to the original image\n",
    "image_folder = config.image_folder\n",
    "# the path to the ground truth\n",
    "gt_folder = config.gt_folder\n",
    "\n",
    "# \n",
    "mix_ratio = config.mix_ratio\n",
    "# \n",
    "resize_ratio = config.resize_ratio\n",
    "# \n",
    "output_folder = config.output_folder #这是去掉了mask按照名称排序的过程\n",
    "# \n",
    "mask_suffix = config.mask_suffix\n",
    "# \n",
    "# segmentation_suffix = '_gtFine_labelTrainIds.png'\n",
    "# segmentation_suffix = '_leftImg8bittrainID.png'\n",
    "segmentation_suffix = config.segmentation_suffix\n",
    "#\n",
    "segmentation_suffix_noimg = config.segmentation_suffix_noimg\n",
    "#\n",
    "confidence_suffix = config.confidence_suffix\n",
    "entropy_suffix = config.entropy_suffix\n",
    "confidence_threshold = config.confidence_threshold  # absolute value\n",
    "entropy_ratio = config.entropy_ratio  # relative value, lowest 70% entropy\n",
    "#\n",
    "gt_suffix = config.gt_suffix\n",
    "\n",
    "# fusion mode = 1\n",
    "# fusion_mode = 0\n",
    "fusion_mode = config.fusion_mode\n",
    "# \n",
    "sam_classes = config.sam_classes  # 11 classes, 5, 6, 7, \n",
    "# \n",
    "shrink_num = config.shrink_num\n",
    "# \n",
    "display_size = config.display_size\n",
    "#\n",
    "sky_center_rect = config.sky_center_rect\n",
    "road_center_rect = config.road_center_rect\n",
    "#\n",
    "daytime_threshold = config.daytime_threshold\n",
    "# whether to save the mixed result\n",
    "save_mix_result = config.save_mix_result\n",
    "save_all_fusion = config.save_all_fusion\n",
    "#num of classes\n",
    "num_classes = config.num_classes\n",
    "#\n",
    "debug_num = config.debug_num # 2975\n",
    "begin_index = config.begin_index # 0"
   ]
  },
  {
   "cell_type": "code",
   "execution_count": 3,
   "metadata": {},
   "outputs": [
    {
     "name": "stdout",
     "output_type": "stream",
     "text": [
      "the path is already exist\n",
      "the path is already exist\n",
      "the path is already exist\n",
      "the path is already exist\n",
      "the path is already exist\n",
      "the path is already exist\n"
     ]
    },
    {
     "name": "stderr",
     "output_type": "stream",
     "text": [
      "  0%|          | 0/1550 [00:00<?, ?it/s]"
     ]
    },
    {
     "name": "stdout",
     "output_type": "stream",
     "text": [
      "GOPR0351_frame_000307_rgb_anon  is night\n"
     ]
    },
    {
     "name": "stderr",
     "output_type": "stream",
     "text": [
      "  0%|          | 1/1550 [00:07<3:15:43,  7.58s/it]"
     ]
    },
    {
     "name": "stdout",
     "output_type": "stream",
     "text": [
      "GOPR0351_frame_000313_rgb_anon  is night\n"
     ]
    },
    {
     "name": "stderr",
     "output_type": "stream",
     "text": [
      "  0%|          | 2/1550 [00:15<3:20:31,  7.77s/it]"
     ]
    },
    {
     "name": "stdout",
     "output_type": "stream",
     "text": [
      "GOPR0351_frame_000317_rgb_anon  is night\n"
     ]
    },
    {
     "name": "stderr",
     "output_type": "stream",
     "text": [
      "  0%|          | 3/1550 [00:22<3:16:20,  7.62s/it]"
     ]
    },
    {
     "name": "stdout",
     "output_type": "stream",
     "text": [
      "GOPR0351_frame_000319_rgb_anon  is night\n"
     ]
    },
    {
     "name": "stderr",
     "output_type": "stream",
     "text": [
      "  0%|          | 4/1550 [00:30<3:11:29,  7.43s/it]"
     ]
    },
    {
     "name": "stdout",
     "output_type": "stream",
     "text": [
      "GOPR0351_frame_000323_rgb_anon  is night\n"
     ]
    },
    {
     "name": "stderr",
     "output_type": "stream",
     "text": [
      "  0%|          | 5/1550 [00:37<3:11:37,  7.44s/it]"
     ]
    },
    {
     "name": "stdout",
     "output_type": "stream",
     "text": [
      "GOPR0351_frame_000325_rgb_anon  is night\n"
     ]
    },
    {
     "name": "stderr",
     "output_type": "stream",
     "text": [
      "  0%|          | 6/1550 [00:45<3:17:21,  7.67s/it]"
     ]
    },
    {
     "name": "stdout",
     "output_type": "stream",
     "text": [
      "GOPR0351_frame_000327_rgb_anon  is night\n"
     ]
    },
    {
     "name": "stderr",
     "output_type": "stream",
     "text": [
      "  0%|          | 7/1550 [00:52<3:10:16,  7.40s/it]"
     ]
    },
    {
     "name": "stdout",
     "output_type": "stream",
     "text": [
      "GOPR0351_frame_000329_rgb_anon  is night\n"
     ]
    },
    {
     "name": "stderr",
     "output_type": "stream",
     "text": [
      "  1%|          | 8/1550 [00:58<3:02:50,  7.11s/it]"
     ]
    },
    {
     "name": "stdout",
     "output_type": "stream",
     "text": [
      "GOPR0351_frame_000331_rgb_anon  is night\n"
     ]
    },
    {
     "name": "stderr",
     "output_type": "stream",
     "text": [
      "  1%|          | 9/1550 [01:05<2:55:53,  6.85s/it]"
     ]
    },
    {
     "name": "stdout",
     "output_type": "stream",
     "text": [
      "GOPR0351_frame_000335_rgb_anon  is night\n"
     ]
    },
    {
     "name": "stderr",
     "output_type": "stream",
     "text": [
      "  1%|          | 10/1550 [01:09<2:38:01,  6.16s/it]"
     ]
    },
    {
     "name": "stdout",
     "output_type": "stream",
     "text": [
      "GOPR0351_frame_000337_rgb_anon  is night\n"
     ]
    },
    {
     "name": "stderr",
     "output_type": "stream",
     "text": [
      "  1%|          | 11/1550 [01:14<2:25:57,  5.69s/it]"
     ]
    },
    {
     "name": "stdout",
     "output_type": "stream",
     "text": [
      "GOPR0351_frame_000341_rgb_anon  is night\n"
     ]
    },
    {
     "name": "stderr",
     "output_type": "stream",
     "text": [
      "  1%|          | 12/1550 [01:20<2:27:26,  5.75s/it]"
     ]
    },
    {
     "name": "stdout",
     "output_type": "stream",
     "text": [
      "GOPR0351_frame_000347_rgb_anon  is night\n"
     ]
    },
    {
     "name": "stderr",
     "output_type": "stream",
     "text": [
      "  1%|          | 13/1550 [01:26<2:30:10,  5.86s/it]"
     ]
    },
    {
     "name": "stdout",
     "output_type": "stream",
     "text": [
      "GOPR0351_frame_000354_rgb_anon  is night\n"
     ]
    },
    {
     "name": "stderr",
     "output_type": "stream",
     "text": [
      "  1%|          | 14/1550 [01:33<2:40:28,  6.27s/it]"
     ]
    },
    {
     "name": "stdout",
     "output_type": "stream",
     "text": [
      "GOPR0351_frame_000368_rgb_anon  is night\n"
     ]
    },
    {
     "name": "stderr",
     "output_type": "stream",
     "text": [
      "  1%|          | 15/1550 [01:41<2:52:27,  6.74s/it]"
     ]
    },
    {
     "name": "stdout",
     "output_type": "stream",
     "text": [
      "GOPR0351_frame_000376_rgb_anon  is night\n"
     ]
    },
    {
     "name": "stderr",
     "output_type": "stream",
     "text": [
      "  1%|          | 16/1550 [01:47<2:44:51,  6.45s/it]"
     ]
    },
    {
     "name": "stdout",
     "output_type": "stream",
     "text": [
      "GOPR0351_frame_000378_rgb_anon  is night\n"
     ]
    },
    {
     "name": "stderr",
     "output_type": "stream",
     "text": [
      "  1%|          | 17/1550 [01:53<2:41:30,  6.32s/it]"
     ]
    },
    {
     "name": "stdout",
     "output_type": "stream",
     "text": [
      "GOPR0351_frame_000382_rgb_anon  is night\n"
     ]
    },
    {
     "name": "stderr",
     "output_type": "stream",
     "text": [
      "  1%|          | 18/1550 [01:58<2:34:48,  6.06s/it]"
     ]
    },
    {
     "name": "stdout",
     "output_type": "stream",
     "text": [
      "GOPR0351_frame_000386_rgb_anon  is night\n"
     ]
    },
    {
     "name": "stderr",
     "output_type": "stream",
     "text": [
      "  1%|          | 19/1550 [02:05<2:39:33,  6.25s/it]"
     ]
    },
    {
     "name": "stdout",
     "output_type": "stream",
     "text": [
      "GOPR0351_frame_000388_rgb_anon  is night\n"
     ]
    },
    {
     "name": "stderr",
     "output_type": "stream",
     "text": [
      "  1%|▏         | 20/1550 [02:13<2:49:45,  6.66s/it]"
     ]
    },
    {
     "name": "stdout",
     "output_type": "stream",
     "text": [
      "GOPR0351_frame_000392_rgb_anon  is night\n"
     ]
    },
    {
     "name": "stderr",
     "output_type": "stream",
     "text": [
      "  1%|▏         | 21/1550 [02:19<2:50:09,  6.68s/it]"
     ]
    },
    {
     "name": "stdout",
     "output_type": "stream",
     "text": [
      "GOPR0351_frame_000396_rgb_anon  is night\n"
     ]
    },
    {
     "name": "stderr",
     "output_type": "stream",
     "text": [
      "  1%|▏         | 22/1550 [02:27<2:55:00,  6.87s/it]"
     ]
    },
    {
     "name": "stdout",
     "output_type": "stream",
     "text": [
      "GOPR0351_frame_000399_rgb_anon  is night\n"
     ]
    },
    {
     "name": "stderr",
     "output_type": "stream",
     "text": [
      "  1%|▏         | 23/1550 [02:35<3:07:21,  7.36s/it]"
     ]
    },
    {
     "name": "stdout",
     "output_type": "stream",
     "text": [
      "GOPR0351_frame_000405_rgb_anon  is night\n"
     ]
    },
    {
     "name": "stderr",
     "output_type": "stream",
     "text": [
      "  2%|▏         | 24/1550 [02:42<3:00:37,  7.10s/it]"
     ]
    },
    {
     "name": "stdout",
     "output_type": "stream",
     "text": [
      "GOPR0351_frame_000485_rgb_anon  is night\n"
     ]
    },
    {
     "name": "stderr",
     "output_type": "stream",
     "text": [
      "  2%|▏         | 25/1550 [02:49<3:04:15,  7.25s/it]"
     ]
    },
    {
     "name": "stdout",
     "output_type": "stream",
     "text": [
      "GOPR0351_frame_000487_rgb_anon  is night\n"
     ]
    },
    {
     "name": "stderr",
     "output_type": "stream",
     "text": [
      "  2%|▏         | 26/1550 [02:57<3:10:29,  7.50s/it]"
     ]
    },
    {
     "name": "stdout",
     "output_type": "stream",
     "text": [
      "GOPR0351_frame_000490_rgb_anon  is night\n"
     ]
    },
    {
     "name": "stderr",
     "output_type": "stream",
     "text": [
      "  2%|▏         | 27/1550 [03:04<3:04:28,  7.27s/it]"
     ]
    },
    {
     "name": "stdout",
     "output_type": "stream",
     "text": [
      "GOPR0351_frame_000494_rgb_anon  is night\n"
     ]
    },
    {
     "name": "stderr",
     "output_type": "stream",
     "text": [
      "  2%|▏         | 28/1550 [03:11<2:58:19,  7.03s/it]"
     ]
    },
    {
     "name": "stdout",
     "output_type": "stream",
     "text": [
      "GOPR0351_frame_000498_rgb_anon  is night\n"
     ]
    },
    {
     "name": "stderr",
     "output_type": "stream",
     "text": [
      "  2%|▏         | 29/1550 [03:19<3:11:27,  7.55s/it]"
     ]
    },
    {
     "name": "stdout",
     "output_type": "stream",
     "text": [
      "GOPR0351_frame_000500_rgb_anon  is night\n"
     ]
    },
    {
     "name": "stderr",
     "output_type": "stream",
     "text": [
      "  2%|▏         | 30/1550 [03:27<3:13:21,  7.63s/it]"
     ]
    },
    {
     "name": "stdout",
     "output_type": "stream",
     "text": [
      "GOPR0351_frame_000502_rgb_anon  is night\n"
     ]
    },
    {
     "name": "stderr",
     "output_type": "stream",
     "text": [
      "  2%|▏         | 31/1550 [03:36<3:19:32,  7.88s/it]"
     ]
    },
    {
     "name": "stdout",
     "output_type": "stream",
     "text": [
      "GOPR0351_frame_000504_rgb_anon  is night\n"
     ]
    },
    {
     "name": "stderr",
     "output_type": "stream",
     "text": [
      "  2%|▏         | 32/1550 [03:45<3:28:14,  8.23s/it]"
     ]
    },
    {
     "name": "stdout",
     "output_type": "stream",
     "text": [
      "GOPR0351_frame_000507_rgb_anon  is night\n"
     ]
    },
    {
     "name": "stderr",
     "output_type": "stream",
     "text": [
      "  2%|▏         | 33/1550 [03:53<3:30:56,  8.34s/it]"
     ]
    },
    {
     "name": "stdout",
     "output_type": "stream",
     "text": [
      "GOPR0351_frame_000509_rgb_anon  is night\n"
     ]
    },
    {
     "name": "stderr",
     "output_type": "stream",
     "text": [
      "  2%|▏         | 35/1550 [04:10<3:29:36,  8.30s/it]"
     ]
    },
    {
     "name": "stdout",
     "output_type": "stream",
     "text": [
      "GOPR0351_frame_000515_rgb_anon  is night\n"
     ]
    },
    {
     "name": "stderr",
     "output_type": "stream",
     "text": [
      "  2%|▏         | 36/1550 [04:18<3:23:45,  8.07s/it]"
     ]
    },
    {
     "name": "stdout",
     "output_type": "stream",
     "text": [
      "GOPR0351_frame_000519_rgb_anon  is night\n"
     ]
    },
    {
     "name": "stderr",
     "output_type": "stream",
     "text": [
      "  2%|▏         | 38/1550 [04:34<3:25:21,  8.15s/it]"
     ]
    },
    {
     "name": "stdout",
     "output_type": "stream",
     "text": [
      "GOPR0351_frame_000540_rgb_anon  is night\n"
     ]
    },
    {
     "name": "stderr",
     "output_type": "stream",
     "text": [
      "  3%|▎         | 39/1550 [04:43<3:29:09,  8.31s/it]"
     ]
    },
    {
     "name": "stdout",
     "output_type": "stream",
     "text": [
      "GOPR0351_frame_000543_rgb_anon  is night\n"
     ]
    },
    {
     "name": "stderr",
     "output_type": "stream",
     "text": [
      "  3%|▎         | 40/1550 [04:51<3:28:06,  8.27s/it]"
     ]
    },
    {
     "name": "stdout",
     "output_type": "stream",
     "text": [
      "GOPR0351_frame_000545_rgb_anon  is night\n"
     ]
    },
    {
     "name": "stderr",
     "output_type": "stream",
     "text": [
      "  3%|▎         | 41/1550 [04:58<3:22:36,  8.06s/it]"
     ]
    },
    {
     "name": "stdout",
     "output_type": "stream",
     "text": [
      "GOPR0351_frame_000547_rgb_anon  is night\n"
     ]
    },
    {
     "name": "stderr",
     "output_type": "stream",
     "text": [
      "  3%|▎         | 42/1550 [05:06<3:20:43,  7.99s/it]"
     ]
    },
    {
     "name": "stdout",
     "output_type": "stream",
     "text": [
      "GOPR0351_frame_000551_rgb_anon  is night\n"
     ]
    },
    {
     "name": "stderr",
     "output_type": "stream",
     "text": [
      "  3%|▎         | 43/1550 [05:14<3:17:16,  7.85s/it]"
     ]
    },
    {
     "name": "stdout",
     "output_type": "stream",
     "text": [
      "GOPR0351_frame_000553_rgb_anon  is night\n"
     ]
    },
    {
     "name": "stderr",
     "output_type": "stream",
     "text": [
      "  3%|▎         | 44/1550 [05:22<3:15:35,  7.79s/it]"
     ]
    },
    {
     "name": "stdout",
     "output_type": "stream",
     "text": [
      "GOPR0351_frame_000555_rgb_anon  is night\n"
     ]
    },
    {
     "name": "stderr",
     "output_type": "stream",
     "text": [
      "  3%|▎         | 46/1550 [05:36<3:11:03,  7.62s/it]"
     ]
    },
    {
     "name": "stdout",
     "output_type": "stream",
     "text": [
      "GOPR0351_frame_000573_rgb_anon  is night\n"
     ]
    },
    {
     "name": "stderr",
     "output_type": "stream",
     "text": [
      "  3%|▎         | 47/1550 [05:44<3:08:14,  7.51s/it]"
     ]
    },
    {
     "name": "stdout",
     "output_type": "stream",
     "text": [
      "GOPR0351_frame_000581_rgb_anon  is night\n"
     ]
    },
    {
     "name": "stderr",
     "output_type": "stream",
     "text": [
      "  3%|▎         | 48/1550 [05:52<3:14:47,  7.78s/it]"
     ]
    },
    {
     "name": "stdout",
     "output_type": "stream",
     "text": [
      "GOPR0351_frame_000595_rgb_anon  is night\n"
     ]
    },
    {
     "name": "stderr",
     "output_type": "stream",
     "text": [
      "  3%|▎         | 49/1550 [05:57<2:56:31,  7.06s/it]"
     ]
    },
    {
     "name": "stdout",
     "output_type": "stream",
     "text": [
      "GOPR0351_frame_000599_rgb_anon  is night\n"
     ]
    },
    {
     "name": "stderr",
     "output_type": "stream",
     "text": [
      "  3%|▎         | 50/1550 [06:03<2:49:17,  6.77s/it]"
     ]
    },
    {
     "name": "stdout",
     "output_type": "stream",
     "text": [
      "GOPR0351_frame_000603_rgb_anon  is night\n"
     ]
    },
    {
     "name": "stderr",
     "output_type": "stream",
     "text": [
      "  3%|▎         | 51/1550 [06:10<2:44:31,  6.59s/it]"
     ]
    },
    {
     "name": "stdout",
     "output_type": "stream",
     "text": [
      "GOPR0351_frame_000607_rgb_anon  is night\n"
     ]
    },
    {
     "name": "stderr",
     "output_type": "stream",
     "text": [
      "  3%|▎         | 52/1550 [06:16<2:40:42,  6.44s/it]"
     ]
    },
    {
     "name": "stdout",
     "output_type": "stream",
     "text": [
      "GOPR0351_frame_000615_rgb_anon  is night\n"
     ]
    },
    {
     "name": "stderr",
     "output_type": "stream",
     "text": [
      "  3%|▎         | 53/1550 [06:22<2:41:31,  6.47s/it]"
     ]
    },
    {
     "name": "stdout",
     "output_type": "stream",
     "text": [
      "GOPR0351_frame_000619_rgb_anon  is night\n"
     ]
    },
    {
     "name": "stderr",
     "output_type": "stream",
     "text": [
      "  3%|▎         | 54/1550 [06:29<2:41:16,  6.47s/it]"
     ]
    },
    {
     "name": "stdout",
     "output_type": "stream",
     "text": [
      "GOPR0351_frame_000623_rgb_anon  is night\n"
     ]
    },
    {
     "name": "stderr",
     "output_type": "stream",
     "text": [
      "  4%|▎         | 55/1550 [06:35<2:40:16,  6.43s/it]"
     ]
    },
    {
     "name": "stdout",
     "output_type": "stream",
     "text": [
      "GOPR0351_frame_000627_rgb_anon  is night\n"
     ]
    },
    {
     "name": "stderr",
     "output_type": "stream",
     "text": [
      "  4%|▎         | 56/1550 [06:41<2:36:52,  6.30s/it]"
     ]
    },
    {
     "name": "stdout",
     "output_type": "stream",
     "text": [
      "GOPR0351_frame_000633_rgb_anon  is night\n"
     ]
    },
    {
     "name": "stderr",
     "output_type": "stream",
     "text": [
      "  4%|▎         | 57/1550 [06:48<2:41:07,  6.48s/it]"
     ]
    },
    {
     "name": "stdout",
     "output_type": "stream",
     "text": [
      "GOPR0351_frame_000639_rgb_anon  is night\n"
     ]
    },
    {
     "name": "stderr",
     "output_type": "stream",
     "text": [
      "  4%|▎         | 58/1550 [06:54<2:40:35,  6.46s/it]"
     ]
    },
    {
     "name": "stdout",
     "output_type": "stream",
     "text": [
      "GOPR0376_frame_000034_rgb_anon  is night\n"
     ]
    },
    {
     "name": "stderr",
     "output_type": "stream",
     "text": [
      "  4%|▍         | 59/1550 [07:00<2:33:51,  6.19s/it]"
     ]
    },
    {
     "name": "stdout",
     "output_type": "stream",
     "text": [
      "GOPR0376_frame_000038_rgb_anon  is night\n"
     ]
    },
    {
     "name": "stderr",
     "output_type": "stream",
     "text": [
      "  4%|▍         | 60/1550 [07:05<2:24:29,  5.82s/it]"
     ]
    },
    {
     "name": "stdout",
     "output_type": "stream",
     "text": [
      "GOPR0376_frame_000042_rgb_anon  is night\n"
     ]
    },
    {
     "name": "stderr",
     "output_type": "stream",
     "text": [
      "  4%|▍         | 61/1550 [07:12<2:32:08,  6.13s/it]"
     ]
    },
    {
     "name": "stdout",
     "output_type": "stream",
     "text": [
      "GOPR0376_frame_000046_rgb_anon  is night\n"
     ]
    },
    {
     "name": "stderr",
     "output_type": "stream",
     "text": [
      "  4%|▍         | 62/1550 [07:18<2:34:54,  6.25s/it]"
     ]
    },
    {
     "name": "stdout",
     "output_type": "stream",
     "text": [
      "GOPR0376_frame_000050_rgb_anon  is night\n"
     ]
    },
    {
     "name": "stderr",
     "output_type": "stream",
     "text": [
      "  4%|▍         | 63/1550 [07:25<2:41:31,  6.52s/it]"
     ]
    },
    {
     "name": "stdout",
     "output_type": "stream",
     "text": [
      "GOPR0376_frame_000054_rgb_anon  is night\n"
     ]
    },
    {
     "name": "stderr",
     "output_type": "stream",
     "text": [
      "  4%|▍         | 64/1550 [07:31<2:36:19,  6.31s/it]"
     ]
    },
    {
     "name": "stdout",
     "output_type": "stream",
     "text": [
      "GOPR0376_frame_000058_rgb_anon  is night\n"
     ]
    },
    {
     "name": "stderr",
     "output_type": "stream",
     "text": [
      "  4%|▍         | 65/1550 [07:39<2:43:56,  6.62s/it]"
     ]
    },
    {
     "name": "stdout",
     "output_type": "stream",
     "text": [
      "GOPR0376_frame_000067_rgb_anon  is night\n"
     ]
    },
    {
     "name": "stderr",
     "output_type": "stream",
     "text": [
      "  4%|▍         | 66/1550 [07:48<3:07:27,  7.58s/it]"
     ]
    },
    {
     "name": "stdout",
     "output_type": "stream",
     "text": [
      "GOPR0376_frame_000089_rgb_anon  is night\n"
     ]
    },
    {
     "name": "stderr",
     "output_type": "stream",
     "text": [
      "  4%|▍         | 67/1550 [07:55<3:03:06,  7.41s/it]"
     ]
    },
    {
     "name": "stdout",
     "output_type": "stream",
     "text": [
      "GOPR0376_frame_000097_rgb_anon  is night\n"
     ]
    },
    {
     "name": "stderr",
     "output_type": "stream",
     "text": [
      "  4%|▍         | 68/1550 [08:02<2:55:11,  7.09s/it]"
     ]
    },
    {
     "name": "stdout",
     "output_type": "stream",
     "text": [
      "GOPR0376_frame_000101_rgb_anon  is night\n"
     ]
    },
    {
     "name": "stderr",
     "output_type": "stream",
     "text": [
      "  4%|▍         | 69/1550 [08:07<2:44:45,  6.67s/it]"
     ]
    },
    {
     "name": "stdout",
     "output_type": "stream",
     "text": [
      "GOPR0376_frame_000105_rgb_anon  is night\n"
     ]
    },
    {
     "name": "stderr",
     "output_type": "stream",
     "text": [
      "  5%|▍         | 71/1550 [08:21<2:44:22,  6.67s/it]"
     ]
    },
    {
     "name": "stdout",
     "output_type": "stream",
     "text": [
      "GOPR0376_frame_000113_rgb_anon  is night\n"
     ]
    },
    {
     "name": "stderr",
     "output_type": "stream",
     "text": [
      "  5%|▍         | 72/1550 [08:28<2:44:53,  6.69s/it]"
     ]
    },
    {
     "name": "stdout",
     "output_type": "stream",
     "text": [
      "GOPR0376_frame_000117_rgb_anon  is night\n"
     ]
    },
    {
     "name": "stderr",
     "output_type": "stream",
     "text": [
      "  5%|▍         | 73/1550 [08:35<2:49:40,  6.89s/it]"
     ]
    },
    {
     "name": "stdout",
     "output_type": "stream",
     "text": [
      "GOPR0376_frame_000122_rgb_anon  is night\n"
     ]
    },
    {
     "name": "stderr",
     "output_type": "stream",
     "text": [
      "  5%|▍         | 75/1550 [08:49<2:52:09,  7.00s/it]"
     ]
    },
    {
     "name": "stdout",
     "output_type": "stream",
     "text": [
      "GOPR0376_frame_000146_rgb_anon  is night\n"
     ]
    },
    {
     "name": "stderr",
     "output_type": "stream",
     "text": [
      "  5%|▍         | 76/1550 [08:56<2:49:25,  6.90s/it]"
     ]
    },
    {
     "name": "stdout",
     "output_type": "stream",
     "text": [
      "GOPR0376_frame_000150_rgb_anon  is night\n"
     ]
    },
    {
     "name": "stderr",
     "output_type": "stream",
     "text": [
      "  5%|▍         | 77/1550 [09:03<2:47:07,  6.81s/it]"
     ]
    },
    {
     "name": "stdout",
     "output_type": "stream",
     "text": [
      "GOPR0376_frame_000157_rgb_anon  is night\n"
     ]
    },
    {
     "name": "stderr",
     "output_type": "stream",
     "text": [
      "  5%|▌         | 78/1550 [09:09<2:42:05,  6.61s/it]"
     ]
    },
    {
     "name": "stdout",
     "output_type": "stream",
     "text": [
      "GOPR0376_frame_000161_rgb_anon  is night\n"
     ]
    },
    {
     "name": "stderr",
     "output_type": "stream",
     "text": [
      "  5%|▌         | 79/1550 [09:15<2:42:57,  6.65s/it]"
     ]
    },
    {
     "name": "stdout",
     "output_type": "stream",
     "text": [
      "GOPR0376_frame_000165_rgb_anon  is night\n"
     ]
    },
    {
     "name": "stderr",
     "output_type": "stream",
     "text": [
      "  5%|▌         | 80/1550 [09:22<2:41:33,  6.59s/it]"
     ]
    },
    {
     "name": "stdout",
     "output_type": "stream",
     "text": [
      "GOPR0376_frame_000169_rgb_anon  is night\n"
     ]
    },
    {
     "name": "stderr",
     "output_type": "stream",
     "text": [
      "  5%|▌         | 81/1550 [09:29<2:42:01,  6.62s/it]"
     ]
    },
    {
     "name": "stdout",
     "output_type": "stream",
     "text": [
      "GOPR0376_frame_000173_rgb_anon  is night\n"
     ]
    },
    {
     "name": "stderr",
     "output_type": "stream",
     "text": [
      "  5%|▌         | 82/1550 [09:35<2:39:50,  6.53s/it]"
     ]
    },
    {
     "name": "stdout",
     "output_type": "stream",
     "text": [
      "GOPR0376_frame_000177_rgb_anon  is night\n"
     ]
    },
    {
     "name": "stderr",
     "output_type": "stream",
     "text": [
      "  5%|▌         | 83/1550 [09:41<2:39:18,  6.52s/it]"
     ]
    },
    {
     "name": "stdout",
     "output_type": "stream",
     "text": [
      "GOPR0376_frame_000181_rgb_anon  is night\n"
     ]
    },
    {
     "name": "stderr",
     "output_type": "stream",
     "text": [
      "  5%|▌         | 84/1550 [09:47<2:33:36,  6.29s/it]"
     ]
    },
    {
     "name": "stdout",
     "output_type": "stream",
     "text": [
      "GOPR0376_frame_000185_rgb_anon  is night\n"
     ]
    },
    {
     "name": "stderr",
     "output_type": "stream",
     "text": [
      "  5%|▌         | 85/1550 [09:53<2:32:47,  6.26s/it]"
     ]
    },
    {
     "name": "stdout",
     "output_type": "stream",
     "text": [
      "GOPR0376_frame_000189_rgb_anon  is night\n"
     ]
    },
    {
     "name": "stderr",
     "output_type": "stream",
     "text": [
      "  6%|▌         | 86/1550 [10:00<2:33:05,  6.27s/it]"
     ]
    },
    {
     "name": "stdout",
     "output_type": "stream",
     "text": [
      "GOPR0376_frame_000193_rgb_anon  is night\n"
     ]
    },
    {
     "name": "stderr",
     "output_type": "stream",
     "text": [
      "  6%|▌         | 87/1550 [10:07<2:41:10,  6.61s/it]"
     ]
    },
    {
     "name": "stdout",
     "output_type": "stream",
     "text": [
      "GOPR0376_frame_000198_rgb_anon  is night\n"
     ]
    },
    {
     "name": "stderr",
     "output_type": "stream",
     "text": [
      "  6%|▌         | 89/1550 [10:23<2:58:02,  7.31s/it]"
     ]
    },
    {
     "name": "stdout",
     "output_type": "stream",
     "text": [
      "GOPR0376_frame_000229_rgb_anon  is night\n"
     ]
    },
    {
     "name": "stderr",
     "output_type": "stream",
     "text": [
      "  6%|▌         | 90/1550 [10:33<3:14:09,  7.98s/it]"
     ]
    },
    {
     "name": "stdout",
     "output_type": "stream",
     "text": [
      "GOPR0376_frame_000257_rgb_anon  is night\n"
     ]
    },
    {
     "name": "stderr",
     "output_type": "stream",
     "text": [
      "  6%|▌         | 91/1550 [10:42<3:26:06,  8.48s/it]"
     ]
    },
    {
     "name": "stdout",
     "output_type": "stream",
     "text": [
      "GOPR0376_frame_000268_rgb_anon  is night\n"
     ]
    },
    {
     "name": "stderr",
     "output_type": "stream",
     "text": [
      "  6%|▌         | 92/1550 [10:49<3:14:32,  8.01s/it]"
     ]
    },
    {
     "name": "stdout",
     "output_type": "stream",
     "text": [
      "GOPR0376_frame_000272_rgb_anon  is night\n"
     ]
    },
    {
     "name": "stderr",
     "output_type": "stream",
     "text": [
      "  6%|▌         | 93/1550 [10:55<2:58:41,  7.36s/it]"
     ]
    },
    {
     "name": "stdout",
     "output_type": "stream",
     "text": [
      "GOPR0376_frame_000276_rgb_anon  is night\n"
     ]
    },
    {
     "name": "stderr",
     "output_type": "stream",
     "text": [
      "  6%|▌         | 94/1550 [11:01<2:45:03,  6.80s/it]"
     ]
    },
    {
     "name": "stdout",
     "output_type": "stream",
     "text": [
      "GOPR0376_frame_000280_rgb_anon  is night\n"
     ]
    },
    {
     "name": "stderr",
     "output_type": "stream",
     "text": [
      "  6%|▌         | 95/1550 [11:07<2:44:43,  6.79s/it]"
     ]
    },
    {
     "name": "stdout",
     "output_type": "stream",
     "text": [
      "GOPR0376_frame_000284_rgb_anon  is night\n"
     ]
    },
    {
     "name": "stderr",
     "output_type": "stream",
     "text": [
      "  6%|▌         | 96/1550 [11:15<2:51:01,  7.06s/it]"
     ]
    },
    {
     "name": "stdout",
     "output_type": "stream",
     "text": [
      "GOPR0376_frame_000288_rgb_anon  is night\n"
     ]
    },
    {
     "name": "stderr",
     "output_type": "stream",
     "text": [
      "  6%|▋         | 97/1550 [11:23<2:57:55,  7.35s/it]"
     ]
    },
    {
     "name": "stdout",
     "output_type": "stream",
     "text": [
      "GOPR0376_frame_000292_rgb_anon  is night\n"
     ]
    },
    {
     "name": "stderr",
     "output_type": "stream",
     "text": [
      "  6%|▋         | 98/1550 [11:32<3:08:42,  7.80s/it]"
     ]
    },
    {
     "name": "stdout",
     "output_type": "stream",
     "text": [
      "GOPR0376_frame_000298_rgb_anon  is night\n"
     ]
    },
    {
     "name": "stderr",
     "output_type": "stream",
     "text": [
      "  6%|▋         | 99/1550 [11:40<3:13:26,  8.00s/it]"
     ]
    },
    {
     "name": "stdout",
     "output_type": "stream",
     "text": [
      "GOPR0376_frame_000302_rgb_anon  is night\n"
     ]
    },
    {
     "name": "stderr",
     "output_type": "stream",
     "text": [
      "  6%|▋         | 100/1550 [11:49<3:15:52,  8.11s/it]"
     ]
    },
    {
     "name": "stdout",
     "output_type": "stream",
     "text": [
      "GOPR0376_frame_000306_rgb_anon  is night\n"
     ]
    },
    {
     "name": "stderr",
     "output_type": "stream",
     "text": [
      "  7%|▋         | 101/1550 [11:56<3:07:49,  7.78s/it]"
     ]
    },
    {
     "name": "stdout",
     "output_type": "stream",
     "text": [
      "GOPR0376_frame_000310_rgb_anon  is night\n"
     ]
    },
    {
     "name": "stderr",
     "output_type": "stream",
     "text": [
      "  7%|▋         | 102/1550 [12:03<3:04:12,  7.63s/it]"
     ]
    },
    {
     "name": "stdout",
     "output_type": "stream",
     "text": [
      "GOPR0376_frame_000315_rgb_anon  is night\n"
     ]
    },
    {
     "name": "stderr",
     "output_type": "stream",
     "text": [
      "  7%|▋         | 103/1550 [12:13<3:18:23,  8.23s/it]"
     ]
    },
    {
     "name": "stdout",
     "output_type": "stream",
     "text": [
      "GOPR0376_frame_000324_rgb_anon  is night\n"
     ]
    },
    {
     "name": "stderr",
     "output_type": "stream",
     "text": [
      "  7%|▋         | 104/1550 [12:20<3:11:12,  7.93s/it]"
     ]
    },
    {
     "name": "stdout",
     "output_type": "stream",
     "text": [
      "GOPR0376_frame_000328_rgb_anon  is night\n"
     ]
    },
    {
     "name": "stderr",
     "output_type": "stream",
     "text": [
      "  7%|▋         | 105/1550 [12:28<3:12:23,  7.99s/it]"
     ]
    },
    {
     "name": "stdout",
     "output_type": "stream",
     "text": [
      "GOPR0376_frame_000332_rgb_anon  is night\n"
     ]
    },
    {
     "name": "stderr",
     "output_type": "stream",
     "text": [
      "  7%|▋         | 106/1550 [12:37<3:21:58,  8.39s/it]"
     ]
    },
    {
     "name": "stdout",
     "output_type": "stream",
     "text": [
      "GOPR0376_frame_000336_rgb_anon  is night\n"
     ]
    },
    {
     "name": "stderr",
     "output_type": "stream",
     "text": [
      "  7%|▋         | 107/1550 [12:46<3:26:51,  8.60s/it]"
     ]
    },
    {
     "name": "stdout",
     "output_type": "stream",
     "text": [
      "GOPR0376_frame_000340_rgb_anon  is night\n"
     ]
    },
    {
     "name": "stderr",
     "output_type": "stream",
     "text": [
      "  7%|▋         | 108/1550 [12:55<3:28:19,  8.67s/it]"
     ]
    },
    {
     "name": "stdout",
     "output_type": "stream",
     "text": [
      "GOPR0376_frame_000344_rgb_anon  is night\n"
     ]
    },
    {
     "name": "stderr",
     "output_type": "stream",
     "text": [
      "  7%|▋         | 109/1550 [13:05<3:32:58,  8.87s/it]"
     ]
    },
    {
     "name": "stdout",
     "output_type": "stream",
     "text": [
      "GOPR0376_frame_000349_rgb_anon  is night\n"
     ]
    },
    {
     "name": "stderr",
     "output_type": "stream",
     "text": [
      "  7%|▋         | 110/1550 [13:15<3:40:44,  9.20s/it]"
     ]
    },
    {
     "name": "stdout",
     "output_type": "stream",
     "text": [
      "GOPR0376_frame_000363_rgb_anon  is night\n"
     ]
    },
    {
     "name": "stderr",
     "output_type": "stream",
     "text": [
      "  7%|▋         | 111/1550 [13:24<3:42:36,  9.28s/it]"
     ]
    },
    {
     "name": "stdout",
     "output_type": "stream",
     "text": [
      "GOPR0376_frame_000369_rgb_anon  is night\n"
     ]
    },
    {
     "name": "stderr",
     "output_type": "stream",
     "text": [
      "  7%|▋         | 113/1550 [13:39<3:17:19,  8.24s/it]"
     ]
    },
    {
     "name": "stdout",
     "output_type": "stream",
     "text": [
      "GOPR0376_frame_000382_rgb_anon  is night\n"
     ]
    },
    {
     "name": "stderr",
     "output_type": "stream",
     "text": [
      "  7%|▋         | 114/1550 [13:47<3:13:32,  8.09s/it]"
     ]
    },
    {
     "name": "stdout",
     "output_type": "stream",
     "text": [
      "GOPR0376_frame_000391_rgb_anon  is night\n"
     ]
    },
    {
     "name": "stderr",
     "output_type": "stream",
     "text": [
      "  7%|▋         | 115/1550 [13:55<3:15:09,  8.16s/it]"
     ]
    },
    {
     "name": "stdout",
     "output_type": "stream",
     "text": [
      "GOPR0376_frame_000418_rgb_anon  is night\n"
     ]
    },
    {
     "name": "stderr",
     "output_type": "stream",
     "text": [
      "  7%|▋         | 116/1550 [14:04<3:17:50,  8.28s/it]"
     ]
    },
    {
     "name": "stdout",
     "output_type": "stream",
     "text": [
      "GOPR0376_frame_000428_rgb_anon  is night\n"
     ]
    },
    {
     "name": "stderr",
     "output_type": "stream",
     "text": [
      "  8%|▊         | 117/1550 [14:10<3:06:45,  7.82s/it]"
     ]
    },
    {
     "name": "stdout",
     "output_type": "stream",
     "text": [
      "GOPR0376_frame_000435_rgb_anon  is night\n"
     ]
    },
    {
     "name": "stderr",
     "output_type": "stream",
     "text": [
      "  8%|▊         | 118/1550 [14:19<3:09:23,  7.94s/it]"
     ]
    },
    {
     "name": "stdout",
     "output_type": "stream",
     "text": [
      "GOPR0376_frame_000441_rgb_anon  is night\n"
     ]
    },
    {
     "name": "stderr",
     "output_type": "stream",
     "text": [
      "  8%|▊         | 119/1550 [14:28<3:16:54,  8.26s/it]"
     ]
    },
    {
     "name": "stdout",
     "output_type": "stream",
     "text": [
      "GOPR0376_frame_000466_rgb_anon  is night\n"
     ]
    },
    {
     "name": "stderr",
     "output_type": "stream",
     "text": [
      "  8%|▊         | 120/1550 [14:38<3:32:35,  8.92s/it]"
     ]
    },
    {
     "name": "stdout",
     "output_type": "stream",
     "text": [
      "GOPR0376_frame_000472_rgb_anon  is night\n"
     ]
    },
    {
     "name": "stderr",
     "output_type": "stream",
     "text": [
      "  8%|▊         | 121/1550 [14:48<3:37:23,  9.13s/it]"
     ]
    },
    {
     "name": "stdout",
     "output_type": "stream",
     "text": [
      "GOPR0376_frame_000478_rgb_anon  is night\n"
     ]
    },
    {
     "name": "stderr",
     "output_type": "stream",
     "text": [
      "  8%|▊         | 122/1550 [14:56<3:32:47,  8.94s/it]"
     ]
    },
    {
     "name": "stdout",
     "output_type": "stream",
     "text": [
      "GOPR0376_frame_000482_rgb_anon  is night\n"
     ]
    },
    {
     "name": "stderr",
     "output_type": "stream",
     "text": [
      "  8%|▊         | 123/1550 [15:03<3:20:29,  8.43s/it]"
     ]
    },
    {
     "name": "stdout",
     "output_type": "stream",
     "text": [
      "GOPR0376_frame_000486_rgb_anon  is night\n"
     ]
    },
    {
     "name": "stderr",
     "output_type": "stream",
     "text": [
      "  8%|▊         | 124/1550 [15:09<3:02:01,  7.66s/it]"
     ]
    },
    {
     "name": "stdout",
     "output_type": "stream",
     "text": [
      "GOPR0376_frame_000491_rgb_anon  is night\n"
     ]
    },
    {
     "name": "stderr",
     "output_type": "stream",
     "text": [
      "  8%|▊         | 127/1550 [15:30<2:53:20,  7.31s/it]"
     ]
    },
    {
     "name": "stdout",
     "output_type": "stream",
     "text": [
      "GOPR0376_frame_000511_rgb_anon  is night\n"
     ]
    },
    {
     "name": "stderr",
     "output_type": "stream",
     "text": [
      "  8%|▊         | 128/1550 [15:38<2:58:28,  7.53s/it]"
     ]
    },
    {
     "name": "stdout",
     "output_type": "stream",
     "text": [
      "GOPR0376_frame_000516_rgb_anon  is night\n"
     ]
    },
    {
     "name": "stderr",
     "output_type": "stream",
     "text": [
      "  8%|▊         | 129/1550 [15:48<3:15:22,  8.25s/it]"
     ]
    },
    {
     "name": "stdout",
     "output_type": "stream",
     "text": [
      "GOPR0376_frame_000533_rgb_anon  is night\n"
     ]
    },
    {
     "name": "stderr",
     "output_type": "stream",
     "text": [
      "  8%|▊         | 130/1550 [15:59<3:31:39,  8.94s/it]"
     ]
    },
    {
     "name": "stdout",
     "output_type": "stream",
     "text": [
      "GOPR0376_frame_000542_rgb_anon  is night\n"
     ]
    },
    {
     "name": "stderr",
     "output_type": "stream",
     "text": [
      "  9%|▊         | 132/1550 [16:18<3:37:47,  9.22s/it]"
     ]
    },
    {
     "name": "stdout",
     "output_type": "stream",
     "text": [
      "GOPR0376_frame_000557_rgb_anon  is night\n"
     ]
    },
    {
     "name": "stderr",
     "output_type": "stream",
     "text": [
      "  9%|▊         | 133/1550 [16:29<3:50:41,  9.77s/it]"
     ]
    },
    {
     "name": "stdout",
     "output_type": "stream",
     "text": [
      "GOPR0376_frame_000565_rgb_anon  is night\n"
     ]
    },
    {
     "name": "stderr",
     "output_type": "stream",
     "text": [
      "  9%|▊         | 134/1550 [16:37<3:39:10,  9.29s/it]"
     ]
    },
    {
     "name": "stdout",
     "output_type": "stream",
     "text": [
      "GOPR0376_frame_000570_rgb_anon  is night\n"
     ]
    },
    {
     "name": "stderr",
     "output_type": "stream",
     "text": [
      "  9%|▊         | 135/1550 [16:45<3:29:01,  8.86s/it]"
     ]
    },
    {
     "name": "stdout",
     "output_type": "stream",
     "text": [
      "GOPR0376_frame_000576_rgb_anon  is night\n"
     ]
    },
    {
     "name": "stderr",
     "output_type": "stream",
     "text": [
      "  9%|▉         | 136/1550 [16:53<3:26:53,  8.78s/it]"
     ]
    },
    {
     "name": "stdout",
     "output_type": "stream",
     "text": [
      "GOPR0376_frame_000584_rgb_anon  is night\n"
     ]
    },
    {
     "name": "stderr",
     "output_type": "stream",
     "text": [
      "  9%|▉         | 137/1550 [17:01<3:22:47,  8.61s/it]"
     ]
    },
    {
     "name": "stdout",
     "output_type": "stream",
     "text": [
      "GOPR0376_frame_000590_rgb_anon  is night\n"
     ]
    },
    {
     "name": "stderr",
     "output_type": "stream",
     "text": [
      "  9%|▉         | 138/1550 [17:10<3:23:27,  8.65s/it]"
     ]
    },
    {
     "name": "stdout",
     "output_type": "stream",
     "text": [
      "GOPR0376_frame_000598_rgb_anon  is night\n"
     ]
    },
    {
     "name": "stderr",
     "output_type": "stream",
     "text": [
      "  9%|▉         | 139/1550 [17:18<3:16:29,  8.36s/it]"
     ]
    },
    {
     "name": "stdout",
     "output_type": "stream",
     "text": [
      "GOPR0376_frame_000608_rgb_anon  is night\n"
     ]
    },
    {
     "name": "stderr",
     "output_type": "stream",
     "text": [
      "  9%|▉         | 140/1550 [17:28<3:29:58,  8.93s/it]"
     ]
    },
    {
     "name": "stdout",
     "output_type": "stream",
     "text": [
      "GOPR0376_frame_000615_rgb_anon  is night\n"
     ]
    },
    {
     "name": "stderr",
     "output_type": "stream",
     "text": [
      "  9%|▉         | 141/1550 [17:37<3:30:01,  8.94s/it]"
     ]
    },
    {
     "name": "stdout",
     "output_type": "stream",
     "text": [
      "GOPR0376_frame_000621_rgb_anon  is night\n"
     ]
    },
    {
     "name": "stderr",
     "output_type": "stream",
     "text": [
      "  9%|▉         | 142/1550 [17:46<3:31:23,  9.01s/it]"
     ]
    },
    {
     "name": "stdout",
     "output_type": "stream",
     "text": [
      "GOPR0376_frame_000627_rgb_anon  is night\n"
     ]
    },
    {
     "name": "stderr",
     "output_type": "stream",
     "text": [
      "  9%|▉         | 143/1550 [17:55<3:32:37,  9.07s/it]"
     ]
    },
    {
     "name": "stdout",
     "output_type": "stream",
     "text": [
      "GOPR0376_frame_000633_rgb_anon  is night\n"
     ]
    },
    {
     "name": "stderr",
     "output_type": "stream",
     "text": [
      "  9%|▉         | 144/1550 [18:06<3:40:28,  9.41s/it]"
     ]
    },
    {
     "name": "stdout",
     "output_type": "stream",
     "text": [
      "GOPR0376_frame_000639_rgb_anon  is night\n"
     ]
    },
    {
     "name": "stderr",
     "output_type": "stream",
     "text": [
      "  9%|▉         | 145/1550 [18:16<3:49:55,  9.82s/it]"
     ]
    },
    {
     "name": "stdout",
     "output_type": "stream",
     "text": [
      "GOPR0376_frame_000650_rgb_anon  is night\n"
     ]
    },
    {
     "name": "stderr",
     "output_type": "stream",
     "text": [
      "  9%|▉         | 146/1550 [18:26<3:51:04,  9.87s/it]"
     ]
    },
    {
     "name": "stdout",
     "output_type": "stream",
     "text": [
      "GOPR0376_frame_000657_rgb_anon  is night\n"
     ]
    },
    {
     "name": "stderr",
     "output_type": "stream",
     "text": [
      "  9%|▉         | 147/1550 [18:36<3:46:53,  9.70s/it]"
     ]
    },
    {
     "name": "stdout",
     "output_type": "stream",
     "text": [
      "GOPR0376_frame_000663_rgb_anon  is night\n"
     ]
    },
    {
     "name": "stderr",
     "output_type": "stream",
     "text": [
      " 10%|▉         | 148/1550 [18:46<3:53:31,  9.99s/it]"
     ]
    },
    {
     "name": "stdout",
     "output_type": "stream",
     "text": [
      "GOPR0376_frame_000678_rgb_anon  is night\n"
     ]
    },
    {
     "name": "stderr",
     "output_type": "stream",
     "text": [
      " 10%|▉         | 149/1550 [18:57<3:56:16, 10.12s/it]"
     ]
    },
    {
     "name": "stdout",
     "output_type": "stream",
     "text": [
      "GOPR0376_frame_000690_rgb_anon  is night\n"
     ]
    },
    {
     "name": "stderr",
     "output_type": "stream",
     "text": [
      " 10%|▉         | 150/1550 [19:06<3:46:30,  9.71s/it]"
     ]
    },
    {
     "name": "stdout",
     "output_type": "stream",
     "text": [
      "GOPR0376_frame_000695_rgb_anon  is night\n"
     ]
    },
    {
     "name": "stderr",
     "output_type": "stream",
     "text": [
      " 10%|▉         | 151/1550 [19:13<3:28:30,  8.94s/it]"
     ]
    },
    {
     "name": "stdout",
     "output_type": "stream",
     "text": [
      "GOPR0376_frame_000699_rgb_anon  is night\n"
     ]
    },
    {
     "name": "stderr",
     "output_type": "stream",
     "text": [
      " 10%|▉         | 153/1550 [19:33<3:41:47,  9.53s/it]"
     ]
    },
    {
     "name": "stdout",
     "output_type": "stream",
     "text": [
      "GOPR0376_frame_000709_rgb_anon  is night\n"
     ]
    },
    {
     "name": "stderr",
     "output_type": "stream",
     "text": [
      " 10%|▉         | 154/1550 [19:40<3:27:13,  8.91s/it]"
     ]
    },
    {
     "name": "stdout",
     "output_type": "stream",
     "text": [
      "GOPR0376_frame_000715_rgb_anon  is night\n"
     ]
    },
    {
     "name": "stderr",
     "output_type": "stream",
     "text": [
      " 10%|█         | 155/1550 [19:48<3:22:52,  8.73s/it]"
     ]
    },
    {
     "name": "stdout",
     "output_type": "stream",
     "text": [
      "GOPR0376_frame_000721_rgb_anon  is night\n"
     ]
    },
    {
     "name": "stderr",
     "output_type": "stream",
     "text": [
      " 10%|█         | 156/1550 [19:58<3:27:03,  8.91s/it]"
     ]
    },
    {
     "name": "stdout",
     "output_type": "stream",
     "text": [
      "GOPR0376_frame_000727_rgb_anon  is night\n"
     ]
    },
    {
     "name": "stderr",
     "output_type": "stream",
     "text": [
      " 10%|█         | 157/1550 [20:06<3:25:58,  8.87s/it]"
     ]
    },
    {
     "name": "stdout",
     "output_type": "stream",
     "text": [
      "GOPR0376_frame_000733_rgb_anon  is night\n"
     ]
    },
    {
     "name": "stderr",
     "output_type": "stream",
     "text": [
      " 10%|█         | 158/1550 [20:16<3:31:09,  9.10s/it]"
     ]
    },
    {
     "name": "stdout",
     "output_type": "stream",
     "text": [
      "GOPR0376_frame_000744_rgb_anon  is night\n"
     ]
    },
    {
     "name": "stderr",
     "output_type": "stream",
     "text": [
      " 10%|█         | 159/1550 [20:26<3:37:28,  9.38s/it]"
     ]
    },
    {
     "name": "stdout",
     "output_type": "stream",
     "text": [
      "GOPR0376_frame_000749_rgb_anon  is night\n"
     ]
    },
    {
     "name": "stderr",
     "output_type": "stream",
     "text": [
      " 10%|█         | 160/1550 [20:35<3:33:56,  9.23s/it]"
     ]
    },
    {
     "name": "stdout",
     "output_type": "stream",
     "text": [
      "GOPR0376_frame_000759_rgb_anon  is night\n"
     ]
    },
    {
     "name": "stderr",
     "output_type": "stream",
     "text": [
      " 10%|█         | 161/1550 [20:43<3:24:52,  8.85s/it]"
     ]
    },
    {
     "name": "stdout",
     "output_type": "stream",
     "text": [
      "GOPR0376_frame_000764_rgb_anon  is night\n"
     ]
    },
    {
     "name": "stderr",
     "output_type": "stream",
     "text": [
      " 10%|█         | 162/1550 [20:50<3:12:51,  8.34s/it]"
     ]
    },
    {
     "name": "stdout",
     "output_type": "stream",
     "text": [
      "GOPR0376_frame_000769_rgb_anon  is night\n"
     ]
    },
    {
     "name": "stderr",
     "output_type": "stream",
     "text": [
      " 11%|█         | 163/1550 [20:57<3:03:27,  7.94s/it]"
     ]
    },
    {
     "name": "stdout",
     "output_type": "stream",
     "text": [
      "GOPR0376_frame_000788_rgb_anon  is night\n"
     ]
    },
    {
     "name": "stderr",
     "output_type": "stream",
     "text": [
      " 11%|█         | 164/1550 [21:04<2:58:01,  7.71s/it]"
     ]
    },
    {
     "name": "stdout",
     "output_type": "stream",
     "text": [
      "GOPR0376_frame_000807_rgb_anon  is night\n"
     ]
    },
    {
     "name": "stderr",
     "output_type": "stream",
     "text": [
      " 11%|█         | 166/1550 [21:22<3:13:46,  8.40s/it]"
     ]
    },
    {
     "name": "stdout",
     "output_type": "stream",
     "text": [
      "GOPR0376_frame_000822_rgb_anon  is night\n"
     ]
    },
    {
     "name": "stderr",
     "output_type": "stream",
     "text": [
      " 11%|█         | 167/1550 [21:30<3:08:43,  8.19s/it]"
     ]
    },
    {
     "name": "stdout",
     "output_type": "stream",
     "text": [
      "GOPR0376_frame_000826_rgb_anon  is night\n"
     ]
    },
    {
     "name": "stderr",
     "output_type": "stream",
     "text": [
      " 11%|█         | 168/1550 [21:37<2:58:31,  7.75s/it]"
     ]
    },
    {
     "name": "stdout",
     "output_type": "stream",
     "text": [
      "GOPR0376_frame_000835_rgb_anon  is night\n"
     ]
    },
    {
     "name": "stderr",
     "output_type": "stream",
     "text": [
      " 11%|█         | 169/1550 [21:45<3:02:00,  7.91s/it]"
     ]
    },
    {
     "name": "stdout",
     "output_type": "stream",
     "text": [
      "GOPR0376_frame_000843_rgb_anon  is night\n"
     ]
    },
    {
     "name": "stderr",
     "output_type": "stream",
     "text": [
      " 11%|█         | 170/1550 [21:53<3:03:09,  7.96s/it]"
     ]
    },
    {
     "name": "stdout",
     "output_type": "stream",
     "text": [
      "GOPR0376_frame_000847_rgb_anon  is night\n"
     ]
    },
    {
     "name": "stderr",
     "output_type": "stream",
     "text": [
      " 11%|█         | 171/1550 [22:00<2:58:02,  7.75s/it]"
     ]
    },
    {
     "name": "stdout",
     "output_type": "stream",
     "text": [
      "GOPR0376_frame_000851_rgb_anon  is night\n"
     ]
    },
    {
     "name": "stderr",
     "output_type": "stream",
     "text": [
      " 11%|█         | 172/1550 [22:08<2:59:54,  7.83s/it]"
     ]
    },
    {
     "name": "stdout",
     "output_type": "stream",
     "text": [
      "GOPR0376_frame_000857_rgb_anon  is night\n"
     ]
    },
    {
     "name": "stderr",
     "output_type": "stream",
     "text": [
      " 11%|█         | 173/1550 [22:16<2:55:09,  7.63s/it]"
     ]
    },
    {
     "name": "stdout",
     "output_type": "stream",
     "text": [
      "GOPR0376_frame_000862_rgb_anon  is night\n"
     ]
    },
    {
     "name": "stderr",
     "output_type": "stream",
     "text": [
      " 11%|█         | 174/1550 [22:24<3:00:22,  7.86s/it]"
     ]
    },
    {
     "name": "stdout",
     "output_type": "stream",
     "text": [
      "GOPR0376_frame_000866_rgb_anon  is night\n"
     ]
    },
    {
     "name": "stderr",
     "output_type": "stream",
     "text": [
      " 11%|█▏        | 175/1550 [22:32<3:00:14,  7.87s/it]"
     ]
    },
    {
     "name": "stdout",
     "output_type": "stream",
     "text": [
      "GOPR0376_frame_000870_rgb_anon  is night\n"
     ]
    },
    {
     "name": "stderr",
     "output_type": "stream",
     "text": [
      " 11%|█▏        | 176/1550 [22:40<3:01:52,  7.94s/it]"
     ]
    },
    {
     "name": "stdout",
     "output_type": "stream",
     "text": [
      "GOPR0376_frame_000874_rgb_anon  is night\n"
     ]
    },
    {
     "name": "stderr",
     "output_type": "stream",
     "text": [
      " 11%|█▏        | 177/1550 [22:48<2:59:53,  7.86s/it]"
     ]
    },
    {
     "name": "stdout",
     "output_type": "stream",
     "text": [
      "GOPR0376_frame_000878_rgb_anon  is night\n"
     ]
    },
    {
     "name": "stderr",
     "output_type": "stream",
     "text": [
      " 11%|█▏        | 178/1550 [22:56<3:04:46,  8.08s/it]"
     ]
    },
    {
     "name": "stdout",
     "output_type": "stream",
     "text": [
      "GOPR0376_frame_000882_rgb_anon  is night\n"
     ]
    },
    {
     "name": "stderr",
     "output_type": "stream",
     "text": [
      " 12%|█▏        | 179/1550 [23:04<3:05:38,  8.12s/it]"
     ]
    },
    {
     "name": "stdout",
     "output_type": "stream",
     "text": [
      "GOPR0376_frame_000887_rgb_anon  is night\n"
     ]
    },
    {
     "name": "stderr",
     "output_type": "stream",
     "text": [
      " 12%|█▏        | 180/1550 [23:14<3:12:33,  8.43s/it]"
     ]
    },
    {
     "name": "stdout",
     "output_type": "stream",
     "text": [
      "GOPR0376_frame_000909_rgb_anon  is night\n"
     ]
    },
    {
     "name": "stderr",
     "output_type": "stream",
     "text": [
      " 12%|█▏        | 181/1550 [23:24<3:23:55,  8.94s/it]"
     ]
    },
    {
     "name": "stdout",
     "output_type": "stream",
     "text": [
      "GOPR0376_frame_000916_rgb_anon  is night\n"
     ]
    },
    {
     "name": "stderr",
     "output_type": "stream",
     "text": [
      " 12%|█▏        | 184/1550 [23:52<3:27:36,  9.12s/it]"
     ]
    },
    {
     "name": "stdout",
     "output_type": "stream",
     "text": [
      "GOPR0376_frame_000936_rgb_anon  is night\n"
     ]
    },
    {
     "name": "stderr",
     "output_type": "stream",
     "text": [
      " 12%|█▏        | 185/1550 [24:02<3:32:00,  9.32s/it]"
     ]
    },
    {
     "name": "stdout",
     "output_type": "stream",
     "text": [
      "GOPR0376_frame_000954_rgb_anon  is night\n"
     ]
    },
    {
     "name": "stderr",
     "output_type": "stream",
     "text": [
      " 12%|█▏        | 186/1550 [24:12<3:38:35,  9.62s/it]"
     ]
    },
    {
     "name": "stdout",
     "output_type": "stream",
     "text": [
      "GOPR0376_frame_000959_rgb_anon  is night\n"
     ]
    },
    {
     "name": "stderr",
     "output_type": "stream",
     "text": [
      " 12%|█▏        | 188/1550 [24:28<3:18:37,  8.75s/it]"
     ]
    },
    {
     "name": "stdout",
     "output_type": "stream",
     "text": [
      "GOPR0376_frame_000967_rgb_anon  is night\n"
     ]
    },
    {
     "name": "stderr",
     "output_type": "stream",
     "text": [
      " 12%|█▏        | 189/1550 [24:36<3:07:50,  8.28s/it]"
     ]
    },
    {
     "name": "stdout",
     "output_type": "stream",
     "text": [
      "GOPR0376_frame_000971_rgb_anon  is night\n"
     ]
    },
    {
     "name": "stderr",
     "output_type": "stream",
     "text": [
      " 12%|█▏        | 191/1550 [24:48<2:43:12,  7.21s/it]"
     ]
    },
    {
     "name": "stdout",
     "output_type": "stream",
     "text": [
      "GOPR0376_frame_000979_rgb_anon  is night\n"
     ]
    },
    {
     "name": "stderr",
     "output_type": "stream",
     "text": [
      " 12%|█▏        | 192/1550 [24:55<2:43:01,  7.20s/it]"
     ]
    },
    {
     "name": "stdout",
     "output_type": "stream",
     "text": [
      "GOPR0376_frame_000983_rgb_anon  is night\n"
     ]
    },
    {
     "name": "stderr",
     "output_type": "stream",
     "text": [
      " 12%|█▏        | 193/1550 [25:03<2:43:21,  7.22s/it]"
     ]
    },
    {
     "name": "stdout",
     "output_type": "stream",
     "text": [
      "GOPR0376_frame_000991_rgb_anon  is night\n"
     ]
    },
    {
     "name": "stderr",
     "output_type": "stream",
     "text": [
      " 13%|█▎        | 194/1550 [25:11<2:49:58,  7.52s/it]"
     ]
    },
    {
     "name": "stdout",
     "output_type": "stream",
     "text": [
      "GOPR0376_frame_001001_rgb_anon  is night\n"
     ]
    },
    {
     "name": "stderr",
     "output_type": "stream",
     "text": [
      " 13%|█▎        | 195/1550 [25:19<2:51:53,  7.61s/it]"
     ]
    },
    {
     "name": "stdout",
     "output_type": "stream",
     "text": [
      "GOPR0376_frame_001005_rgb_anon  is night\n"
     ]
    },
    {
     "name": "stderr",
     "output_type": "stream",
     "text": [
      " 13%|█▎        | 196/1550 [25:26<2:50:43,  7.57s/it]"
     ]
    },
    {
     "name": "stdout",
     "output_type": "stream",
     "text": [
      "GOPR0376_frame_001009_rgb_anon  is night\n"
     ]
    },
    {
     "name": "stderr",
     "output_type": "stream",
     "text": [
      " 13%|█▎        | 197/1550 [25:33<2:44:31,  7.30s/it]"
     ]
    },
    {
     "name": "stdout",
     "output_type": "stream",
     "text": [
      "GOPR0376_frame_001013_rgb_anon  is night\n"
     ]
    },
    {
     "name": "stderr",
     "output_type": "stream",
     "text": [
      " 13%|█▎        | 198/1550 [25:40<2:43:15,  7.25s/it]"
     ]
    },
    {
     "name": "stdout",
     "output_type": "stream",
     "text": [
      "GOPR0376_frame_001017_rgb_anon  is night\n"
     ]
    },
    {
     "name": "stderr",
     "output_type": "stream",
     "text": [
      " 13%|█▎        | 199/1550 [25:47<2:45:14,  7.34s/it]"
     ]
    },
    {
     "name": "stdout",
     "output_type": "stream",
     "text": [
      "GOPR0376_frame_001021_rgb_anon  is night\n"
     ]
    },
    {
     "name": "stderr",
     "output_type": "stream",
     "text": [
      " 13%|█▎        | 200/1550 [25:55<2:46:53,  7.42s/it]"
     ]
    },
    {
     "name": "stdout",
     "output_type": "stream",
     "text": [
      "GOPR0376_frame_001025_rgb_anon  is night\n"
     ]
    },
    {
     "name": "stderr",
     "output_type": "stream",
     "text": [
      " 13%|█▎        | 201/1550 [26:02<2:45:20,  7.35s/it]"
     ]
    },
    {
     "name": "stdout",
     "output_type": "stream",
     "text": [
      "GOPR0376_frame_001032_rgb_anon  is night\n"
     ]
    },
    {
     "name": "stderr",
     "output_type": "stream",
     "text": [
      " 13%|█▎        | 202/1550 [26:11<2:56:12,  7.84s/it]"
     ]
    },
    {
     "name": "stdout",
     "output_type": "stream",
     "text": [
      "GOPR0376_frame_001050_rgb_anon  is night\n"
     ]
    },
    {
     "name": "stderr",
     "output_type": "stream",
     "text": [
      " 13%|█▎        | 203/1550 [26:19<2:58:38,  7.96s/it]"
     ]
    },
    {
     "name": "stdout",
     "output_type": "stream",
     "text": [
      "GOPR0376_frame_001054_rgb_anon  is night\n"
     ]
    },
    {
     "name": "stderr",
     "output_type": "stream",
     "text": [
      " 13%|█▎        | 204/1550 [26:26<2:50:50,  7.62s/it]"
     ]
    },
    {
     "name": "stdout",
     "output_type": "stream",
     "text": [
      "GOPR0376_frame_001058_rgb_anon  is night\n"
     ]
    },
    {
     "name": "stderr",
     "output_type": "stream",
     "text": [
      " 49%|████▉     | 762/1550 [1:36:27<1:49:09,  8.31s/it]"
     ]
    },
    {
     "name": "stdout",
     "output_type": "stream",
     "text": [
      "GP010376_frame_000001_rgb_anon  is night\n"
     ]
    },
    {
     "name": "stderr",
     "output_type": "stream",
     "text": [
      " 49%|████▉     | 763/1550 [1:36:34<1:45:49,  8.07s/it]"
     ]
    },
    {
     "name": "stdout",
     "output_type": "stream",
     "text": [
      "GP010376_frame_000005_rgb_anon  is night\n"
     ]
    },
    {
     "name": "stderr",
     "output_type": "stream",
     "text": [
      " 49%|████▉     | 764/1550 [1:36:41<1:41:06,  7.72s/it]"
     ]
    },
    {
     "name": "stdout",
     "output_type": "stream",
     "text": [
      "GP010376_frame_000009_rgb_anon  is night\n"
     ]
    },
    {
     "name": "stderr",
     "output_type": "stream",
     "text": [
      " 49%|████▉     | 765/1550 [1:36:47<1:32:47,  7.09s/it]"
     ]
    },
    {
     "name": "stdout",
     "output_type": "stream",
     "text": [
      "GP010376_frame_000013_rgb_anon  is night\n"
     ]
    },
    {
     "name": "stderr",
     "output_type": "stream",
     "text": [
      " 49%|████▉     | 766/1550 [1:36:53<1:29:43,  6.87s/it]"
     ]
    },
    {
     "name": "stdout",
     "output_type": "stream",
     "text": [
      "GP010376_frame_000020_rgb_anon  is night\n"
     ]
    },
    {
     "name": "stderr",
     "output_type": "stream",
     "text": [
      " 49%|████▉     | 767/1550 [1:37:00<1:28:58,  6.82s/it]"
     ]
    },
    {
     "name": "stdout",
     "output_type": "stream",
     "text": [
      "GP010376_frame_000024_rgb_anon  is night\n"
     ]
    },
    {
     "name": "stderr",
     "output_type": "stream",
     "text": [
      " 50%|████▉     | 768/1550 [1:37:07<1:30:51,  6.97s/it]"
     ]
    },
    {
     "name": "stdout",
     "output_type": "stream",
     "text": [
      "GP010376_frame_000028_rgb_anon  is night\n"
     ]
    },
    {
     "name": "stderr",
     "output_type": "stream",
     "text": [
      " 50%|████▉     | 769/1550 [1:37:13<1:26:37,  6.66s/it]"
     ]
    },
    {
     "name": "stdout",
     "output_type": "stream",
     "text": [
      "GP010376_frame_000032_rgb_anon  is night\n"
     ]
    },
    {
     "name": "stderr",
     "output_type": "stream",
     "text": [
      " 50%|████▉     | 770/1550 [1:37:19<1:25:43,  6.59s/it]"
     ]
    },
    {
     "name": "stdout",
     "output_type": "stream",
     "text": [
      "GP010376_frame_000036_rgb_anon  is night\n"
     ]
    },
    {
     "name": "stderr",
     "output_type": "stream",
     "text": [
      " 50%|████▉     | 771/1550 [1:37:26<1:26:30,  6.66s/it]"
     ]
    },
    {
     "name": "stdout",
     "output_type": "stream",
     "text": [
      "GP010376_frame_000040_rgb_anon  is night\n"
     ]
    },
    {
     "name": "stderr",
     "output_type": "stream",
     "text": [
      " 50%|████▉     | 772/1550 [1:37:33<1:26:32,  6.67s/it]"
     ]
    },
    {
     "name": "stdout",
     "output_type": "stream",
     "text": [
      "GP010376_frame_000044_rgb_anon  is night\n"
     ]
    },
    {
     "name": "stderr",
     "output_type": "stream",
     "text": [
      " 50%|████▉     | 773/1550 [1:37:39<1:26:04,  6.65s/it]"
     ]
    },
    {
     "name": "stdout",
     "output_type": "stream",
     "text": [
      "GP010376_frame_000049_rgb_anon  is night\n"
     ]
    },
    {
     "name": "stderr",
     "output_type": "stream",
     "text": [
      " 50%|████▉     | 774/1550 [1:37:48<1:34:24,  7.30s/it]"
     ]
    },
    {
     "name": "stdout",
     "output_type": "stream",
     "text": [
      "GP010376_frame_000084_rgb_anon  is night\n"
     ]
    },
    {
     "name": "stderr",
     "output_type": "stream",
     "text": [
      " 50%|█████     | 775/1550 [1:37:58<1:45:17,  8.15s/it]"
     ]
    },
    {
     "name": "stdout",
     "output_type": "stream",
     "text": [
      "GP010376_frame_000124_rgb_anon  is night\n"
     ]
    },
    {
     "name": "stderr",
     "output_type": "stream",
     "text": [
      " 50%|█████     | 776/1550 [1:38:07<1:44:57,  8.14s/it]"
     ]
    },
    {
     "name": "stdout",
     "output_type": "stream",
     "text": [
      "GP010376_frame_000129_rgb_anon  is night\n"
     ]
    },
    {
     "name": "stderr",
     "output_type": "stream",
     "text": [
      " 50%|█████     | 777/1550 [1:38:14<1:43:15,  8.02s/it]"
     ]
    },
    {
     "name": "stdout",
     "output_type": "stream",
     "text": [
      "GP010376_frame_000133_rgb_anon  is night\n"
     ]
    },
    {
     "name": "stderr",
     "output_type": "stream",
     "text": [
      " 50%|█████     | 778/1550 [1:38:22<1:41:12,  7.87s/it]"
     ]
    },
    {
     "name": "stdout",
     "output_type": "stream",
     "text": [
      "GP010376_frame_000137_rgb_anon  is night\n"
     ]
    },
    {
     "name": "stderr",
     "output_type": "stream",
     "text": [
      " 50%|█████     | 779/1550 [1:38:31<1:45:04,  8.18s/it]"
     ]
    },
    {
     "name": "stdout",
     "output_type": "stream",
     "text": [
      "GP010376_frame_000141_rgb_anon  is night\n"
     ]
    },
    {
     "name": "stderr",
     "output_type": "stream",
     "text": [
      " 50%|█████     | 780/1550 [1:38:39<1:46:14,  8.28s/it]"
     ]
    },
    {
     "name": "stdout",
     "output_type": "stream",
     "text": [
      "GP010376_frame_000145_rgb_anon  is night\n"
     ]
    },
    {
     "name": "stderr",
     "output_type": "stream",
     "text": [
      " 50%|█████     | 781/1550 [1:38:48<1:46:59,  8.35s/it]"
     ]
    },
    {
     "name": "stdout",
     "output_type": "stream",
     "text": [
      "GP010376_frame_000149_rgb_anon  is night\n"
     ]
    },
    {
     "name": "stderr",
     "output_type": "stream",
     "text": [
      " 50%|█████     | 782/1550 [1:38:56<1:46:53,  8.35s/it]"
     ]
    },
    {
     "name": "stdout",
     "output_type": "stream",
     "text": [
      "GP010376_frame_000153_rgb_anon  is night\n"
     ]
    },
    {
     "name": "stderr",
     "output_type": "stream",
     "text": [
      " 51%|█████     | 783/1550 [1:39:05<1:48:16,  8.47s/it]"
     ]
    },
    {
     "name": "stdout",
     "output_type": "stream",
     "text": [
      "GP010376_frame_000171_rgb_anon  is night\n"
     ]
    },
    {
     "name": "stderr",
     "output_type": "stream",
     "text": [
      " 51%|█████     | 784/1550 [1:39:16<1:58:11,  9.26s/it]"
     ]
    },
    {
     "name": "stdout",
     "output_type": "stream",
     "text": [
      "GP010376_frame_000177_rgb_anon  is night\n"
     ]
    },
    {
     "name": "stderr",
     "output_type": "stream",
     "text": [
      " 51%|█████     | 785/1550 [1:39:22<1:47:48,  8.46s/it]"
     ]
    },
    {
     "name": "stdout",
     "output_type": "stream",
     "text": [
      "GP010376_frame_000181_rgb_anon  is night\n"
     ]
    },
    {
     "name": "stderr",
     "output_type": "stream",
     "text": [
      " 51%|█████     | 786/1550 [1:39:28<1:36:06,  7.55s/it]"
     ]
    },
    {
     "name": "stdout",
     "output_type": "stream",
     "text": [
      "GP010376_frame_000185_rgb_anon  is night\n"
     ]
    },
    {
     "name": "stderr",
     "output_type": "stream",
     "text": [
      " 51%|█████     | 787/1550 [1:39:33<1:28:00,  6.92s/it]"
     ]
    },
    {
     "name": "stdout",
     "output_type": "stream",
     "text": [
      "GP010376_frame_000189_rgb_anon  is night\n"
     ]
    },
    {
     "name": "stderr",
     "output_type": "stream",
     "text": [
      " 51%|█████     | 788/1550 [1:39:39<1:21:19,  6.40s/it]"
     ]
    },
    {
     "name": "stdout",
     "output_type": "stream",
     "text": [
      "GP010376_frame_000193_rgb_anon  is night\n"
     ]
    },
    {
     "name": "stderr",
     "output_type": "stream",
     "text": [
      " 51%|█████     | 789/1550 [1:39:44<1:17:06,  6.08s/it]"
     ]
    },
    {
     "name": "stdout",
     "output_type": "stream",
     "text": [
      "GP010376_frame_000197_rgb_anon  is night\n"
     ]
    },
    {
     "name": "stderr",
     "output_type": "stream",
     "text": [
      " 51%|█████     | 790/1550 [1:39:51<1:18:59,  6.24s/it]"
     ]
    },
    {
     "name": "stdout",
     "output_type": "stream",
     "text": [
      "GP010376_frame_000201_rgb_anon  is night\n"
     ]
    },
    {
     "name": "stderr",
     "output_type": "stream",
     "text": [
      " 51%|█████     | 791/1550 [1:39:58<1:22:02,  6.49s/it]"
     ]
    },
    {
     "name": "stdout",
     "output_type": "stream",
     "text": [
      "GP010376_frame_000206_rgb_anon  is night\n"
     ]
    },
    {
     "name": "stderr",
     "output_type": "stream",
     "text": [
      " 51%|█████     | 792/1550 [1:40:07<1:33:41,  7.42s/it]"
     ]
    },
    {
     "name": "stdout",
     "output_type": "stream",
     "text": [
      "GP010376_frame_000213_rgb_anon  is night\n"
     ]
    },
    {
     "name": "stderr",
     "output_type": "stream",
     "text": [
      " 51%|█████     | 793/1550 [1:40:18<1:48:08,  8.57s/it]"
     ]
    },
    {
     "name": "stdout",
     "output_type": "stream",
     "text": [
      "GP010376_frame_000219_rgb_anon  is night\n"
     ]
    },
    {
     "name": "stderr",
     "output_type": "stream",
     "text": [
      " 51%|█████     | 794/1550 [1:40:24<1:37:58,  7.78s/it]"
     ]
    },
    {
     "name": "stdout",
     "output_type": "stream",
     "text": [
      "GP010376_frame_000223_rgb_anon  is night\n"
     ]
    },
    {
     "name": "stderr",
     "output_type": "stream",
     "text": [
      " 51%|█████▏    | 795/1550 [1:40:29<1:27:33,  6.96s/it]"
     ]
    },
    {
     "name": "stdout",
     "output_type": "stream",
     "text": [
      "GP010376_frame_000227_rgb_anon  is night\n"
     ]
    },
    {
     "name": "stderr",
     "output_type": "stream",
     "text": [
      " 51%|█████▏    | 796/1550 [1:40:34<1:19:28,  6.32s/it]"
     ]
    },
    {
     "name": "stdout",
     "output_type": "stream",
     "text": [
      "GP010376_frame_000231_rgb_anon  is night\n"
     ]
    },
    {
     "name": "stderr",
     "output_type": "stream",
     "text": [
      " 51%|█████▏    | 797/1550 [1:40:39<1:13:12,  5.83s/it]"
     ]
    },
    {
     "name": "stdout",
     "output_type": "stream",
     "text": [
      "GP010376_frame_000235_rgb_anon  is night\n"
     ]
    },
    {
     "name": "stderr",
     "output_type": "stream",
     "text": [
      " 51%|█████▏    | 798/1550 [1:40:43<1:07:24,  5.38s/it]"
     ]
    },
    {
     "name": "stdout",
     "output_type": "stream",
     "text": [
      "GP010376_frame_000239_rgb_anon  is night\n"
     ]
    },
    {
     "name": "stderr",
     "output_type": "stream",
     "text": [
      " 52%|█████▏    | 799/1550 [1:40:49<1:07:12,  5.37s/it]"
     ]
    },
    {
     "name": "stdout",
     "output_type": "stream",
     "text": [
      "GP010376_frame_000243_rgb_anon  is night\n"
     ]
    },
    {
     "name": "stderr",
     "output_type": "stream",
     "text": [
      " 52%|█████▏    | 800/1550 [1:40:54<1:06:53,  5.35s/it]"
     ]
    },
    {
     "name": "stdout",
     "output_type": "stream",
     "text": [
      "GP010376_frame_000247_rgb_anon  is night\n"
     ]
    },
    {
     "name": "stderr",
     "output_type": "stream",
     "text": [
      " 52%|█████▏    | 801/1550 [1:40:59<1:06:02,  5.29s/it]"
     ]
    },
    {
     "name": "stdout",
     "output_type": "stream",
     "text": [
      "GP010376_frame_000251_rgb_anon  is night\n"
     ]
    },
    {
     "name": "stderr",
     "output_type": "stream",
     "text": [
      " 52%|█████▏    | 802/1550 [1:41:05<1:09:11,  5.55s/it]"
     ]
    },
    {
     "name": "stdout",
     "output_type": "stream",
     "text": [
      "GP010376_frame_000255_rgb_anon  is night\n"
     ]
    },
    {
     "name": "stderr",
     "output_type": "stream",
     "text": [
      " 52%|█████▏    | 803/1550 [1:41:11<1:11:40,  5.76s/it]"
     ]
    },
    {
     "name": "stdout",
     "output_type": "stream",
     "text": [
      "GP010376_frame_000259_rgb_anon  is night\n"
     ]
    },
    {
     "name": "stderr",
     "output_type": "stream",
     "text": [
      " 52%|█████▏    | 804/1550 [1:41:18<1:13:44,  5.93s/it]"
     ]
    },
    {
     "name": "stdout",
     "output_type": "stream",
     "text": [
      "GP010376_frame_000263_rgb_anon  is night\n"
     ]
    },
    {
     "name": "stderr",
     "output_type": "stream",
     "text": [
      " 52%|█████▏    | 805/1550 [1:41:24<1:13:29,  5.92s/it]"
     ]
    },
    {
     "name": "stdout",
     "output_type": "stream",
     "text": [
      "GP010376_frame_000267_rgb_anon  is night\n"
     ]
    },
    {
     "name": "stderr",
     "output_type": "stream",
     "text": [
      " 52%|█████▏    | 806/1550 [1:41:29<1:12:46,  5.87s/it]"
     ]
    },
    {
     "name": "stdout",
     "output_type": "stream",
     "text": [
      "GP010376_frame_000271_rgb_anon  is night\n"
     ]
    },
    {
     "name": "stderr",
     "output_type": "stream",
     "text": [
      " 52%|█████▏    | 807/1550 [1:41:34<1:09:05,  5.58s/it]"
     ]
    },
    {
     "name": "stdout",
     "output_type": "stream",
     "text": [
      "GP010376_frame_000275_rgb_anon  is night\n"
     ]
    },
    {
     "name": "stderr",
     "output_type": "stream",
     "text": [
      " 52%|█████▏    | 808/1550 [1:41:39<1:06:20,  5.36s/it]"
     ]
    },
    {
     "name": "stdout",
     "output_type": "stream",
     "text": [
      "GP010376_frame_000279_rgb_anon  is night\n"
     ]
    },
    {
     "name": "stderr",
     "output_type": "stream",
     "text": [
      " 52%|█████▏    | 809/1550 [1:41:46<1:11:39,  5.80s/it]"
     ]
    },
    {
     "name": "stdout",
     "output_type": "stream",
     "text": [
      "GP010376_frame_000283_rgb_anon  is night\n"
     ]
    },
    {
     "name": "stderr",
     "output_type": "stream",
     "text": [
      " 52%|█████▏    | 810/1550 [1:41:53<1:16:49,  6.23s/it]"
     ]
    },
    {
     "name": "stdout",
     "output_type": "stream",
     "text": [
      "GP010376_frame_000287_rgb_anon  is night\n"
     ]
    },
    {
     "name": "stderr",
     "output_type": "stream",
     "text": [
      " 52%|█████▏    | 811/1550 [1:42:01<1:22:52,  6.73s/it]"
     ]
    },
    {
     "name": "stdout",
     "output_type": "stream",
     "text": [
      "GP010376_frame_000291_rgb_anon  is night\n"
     ]
    },
    {
     "name": "stderr",
     "output_type": "stream",
     "text": [
      " 52%|█████▏    | 812/1550 [1:42:08<1:21:43,  6.64s/it]"
     ]
    },
    {
     "name": "stdout",
     "output_type": "stream",
     "text": [
      "GP010376_frame_000295_rgb_anon  is night\n"
     ]
    },
    {
     "name": "stderr",
     "output_type": "stream",
     "text": [
      " 52%|█████▏    | 813/1550 [1:42:15<1:25:53,  6.99s/it]"
     ]
    },
    {
     "name": "stdout",
     "output_type": "stream",
     "text": [
      "GP010376_frame_000299_rgb_anon  is night\n"
     ]
    },
    {
     "name": "stderr",
     "output_type": "stream",
     "text": [
      " 53%|█████▎    | 814/1550 [1:42:21<1:22:15,  6.71s/it]"
     ]
    },
    {
     "name": "stdout",
     "output_type": "stream",
     "text": [
      "GP010376_frame_000303_rgb_anon  is night\n"
     ]
    },
    {
     "name": "stderr",
     "output_type": "stream",
     "text": [
      " 53%|█████▎    | 815/1550 [1:42:28<1:22:59,  6.77s/it]"
     ]
    },
    {
     "name": "stdout",
     "output_type": "stream",
     "text": [
      "GP010376_frame_000307_rgb_anon  is night\n"
     ]
    },
    {
     "name": "stderr",
     "output_type": "stream",
     "text": [
      " 53%|█████▎    | 816/1550 [1:42:34<1:18:37,  6.43s/it]"
     ]
    },
    {
     "name": "stdout",
     "output_type": "stream",
     "text": [
      "GP010376_frame_000311_rgb_anon  is night\n"
     ]
    },
    {
     "name": "stderr",
     "output_type": "stream",
     "text": [
      " 53%|█████▎    | 817/1550 [1:42:40<1:15:55,  6.21s/it]"
     ]
    },
    {
     "name": "stdout",
     "output_type": "stream",
     "text": [
      "GP010376_frame_000319_rgb_anon  is night\n"
     ]
    },
    {
     "name": "stderr",
     "output_type": "stream",
     "text": [
      " 53%|█████▎    | 818/1550 [1:42:47<1:18:51,  6.46s/it]"
     ]
    },
    {
     "name": "stdout",
     "output_type": "stream",
     "text": [
      "GP010397_frame_000037_rgb_anon  is night\n"
     ]
    },
    {
     "name": "stderr",
     "output_type": "stream",
     "text": [
      " 53%|█████▎    | 819/1550 [1:42:52<1:14:30,  6.11s/it]"
     ]
    },
    {
     "name": "stdout",
     "output_type": "stream",
     "text": [
      "GP010397_frame_000056_rgb_anon  is night\n"
     ]
    },
    {
     "name": "stderr",
     "output_type": "stream",
     "text": [
      " 53%|█████▎    | 820/1550 [1:43:00<1:21:53,  6.73s/it]"
     ]
    },
    {
     "name": "stdout",
     "output_type": "stream",
     "text": [
      "GP010397_frame_000063_rgb_anon  is night\n"
     ]
    },
    {
     "name": "stderr",
     "output_type": "stream",
     "text": [
      " 53%|█████▎    | 821/1550 [1:43:08<1:25:01,  7.00s/it]"
     ]
    },
    {
     "name": "stdout",
     "output_type": "stream",
     "text": [
      "GP010397_frame_000074_rgb_anon  is night\n"
     ]
    },
    {
     "name": "stderr",
     "output_type": "stream",
     "text": [
      " 53%|█████▎    | 822/1550 [1:43:16<1:29:19,  7.36s/it]"
     ]
    },
    {
     "name": "stdout",
     "output_type": "stream",
     "text": [
      "GP010397_frame_000080_rgb_anon  is night\n"
     ]
    },
    {
     "name": "stderr",
     "output_type": "stream",
     "text": [
      " 53%|█████▎    | 823/1550 [1:43:25<1:34:19,  7.79s/it]"
     ]
    },
    {
     "name": "stdout",
     "output_type": "stream",
     "text": [
      "GP010397_frame_000096_rgb_anon  is night\n"
     ]
    },
    {
     "name": "stderr",
     "output_type": "stream",
     "text": [
      " 53%|█████▎    | 824/1550 [1:43:33<1:35:02,  7.85s/it]"
     ]
    },
    {
     "name": "stdout",
     "output_type": "stream",
     "text": [
      "GP010397_frame_000102_rgb_anon  is night\n"
     ]
    },
    {
     "name": "stderr",
     "output_type": "stream",
     "text": [
      " 53%|█████▎    | 825/1550 [1:43:40<1:33:45,  7.76s/it]"
     ]
    },
    {
     "name": "stdout",
     "output_type": "stream",
     "text": [
      "GP010397_frame_000127_rgb_anon  is night\n"
     ]
    },
    {
     "name": "stderr",
     "output_type": "stream",
     "text": [
      " 53%|█████▎    | 826/1550 [1:43:49<1:37:28,  8.08s/it]"
     ]
    },
    {
     "name": "stdout",
     "output_type": "stream",
     "text": [
      "GP010397_frame_000166_rgb_anon  is night\n"
     ]
    },
    {
     "name": "stderr",
     "output_type": "stream",
     "text": [
      " 53%|█████▎    | 827/1550 [1:43:57<1:34:54,  7.88s/it]"
     ]
    },
    {
     "name": "stdout",
     "output_type": "stream",
     "text": [
      "GP010397_frame_000171_rgb_anon  is night\n"
     ]
    },
    {
     "name": "stderr",
     "output_type": "stream",
     "text": [
      " 53%|█████▎    | 828/1550 [1:44:06<1:39:47,  8.29s/it]"
     ]
    },
    {
     "name": "stdout",
     "output_type": "stream",
     "text": [
      "GP010397_frame_000176_rgb_anon  is night\n"
     ]
    },
    {
     "name": "stderr",
     "output_type": "stream",
     "text": [
      " 53%|█████▎    | 829/1550 [1:44:17<1:48:08,  9.00s/it]"
     ]
    },
    {
     "name": "stdout",
     "output_type": "stream",
     "text": [
      "GP010397_frame_000182_rgb_anon  is night\n"
     ]
    },
    {
     "name": "stderr",
     "output_type": "stream",
     "text": [
      " 54%|█████▎    | 830/1550 [1:44:24<1:42:44,  8.56s/it]"
     ]
    },
    {
     "name": "stdout",
     "output_type": "stream",
     "text": [
      "GP010397_frame_000193_rgb_anon  is night\n"
     ]
    },
    {
     "name": "stderr",
     "output_type": "stream",
     "text": [
      " 54%|█████▎    | 831/1550 [1:44:32<1:39:45,  8.32s/it]"
     ]
    },
    {
     "name": "stdout",
     "output_type": "stream",
     "text": [
      "GP010397_frame_000198_rgb_anon  is night\n"
     ]
    },
    {
     "name": "stderr",
     "output_type": "stream",
     "text": [
      " 54%|█████▎    | 832/1550 [1:44:41<1:41:35,  8.49s/it]"
     ]
    },
    {
     "name": "stdout",
     "output_type": "stream",
     "text": [
      "GP010397_frame_000211_rgb_anon  is night\n"
     ]
    },
    {
     "name": "stderr",
     "output_type": "stream",
     "text": [
      " 54%|█████▎    | 833/1550 [1:44:47<1:34:37,  7.92s/it]"
     ]
    },
    {
     "name": "stdout",
     "output_type": "stream",
     "text": [
      "GP010397_frame_000216_rgb_anon  is night\n"
     ]
    },
    {
     "name": "stderr",
     "output_type": "stream",
     "text": [
      " 54%|█████▍    | 834/1550 [1:44:53<1:27:33,  7.34s/it]"
     ]
    },
    {
     "name": "stdout",
     "output_type": "stream",
     "text": [
      "GP010397_frame_000222_rgb_anon  is night\n"
     ]
    },
    {
     "name": "stderr",
     "output_type": "stream",
     "text": [
      " 54%|█████▍    | 835/1550 [1:44:59<1:22:21,  6.91s/it]"
     ]
    },
    {
     "name": "stdout",
     "output_type": "stream",
     "text": [
      "GP010397_frame_000276_rgb_anon  is night\n"
     ]
    },
    {
     "name": "stderr",
     "output_type": "stream",
     "text": [
      " 54%|█████▍    | 836/1550 [1:45:09<1:30:59,  7.65s/it]"
     ]
    },
    {
     "name": "stdout",
     "output_type": "stream",
     "text": [
      "GP010397_frame_000337_rgb_anon  is night\n"
     ]
    },
    {
     "name": "stderr",
     "output_type": "stream",
     "text": [
      " 54%|█████▍    | 837/1550 [1:45:15<1:27:41,  7.38s/it]"
     ]
    },
    {
     "name": "stdout",
     "output_type": "stream",
     "text": [
      "GP010397_frame_000401_rgb_anon  is night\n"
     ]
    },
    {
     "name": "stderr",
     "output_type": "stream",
     "text": [
      " 54%|█████▍    | 838/1550 [1:45:24<1:32:03,  7.76s/it]"
     ]
    },
    {
     "name": "stdout",
     "output_type": "stream",
     "text": [
      "GP010397_frame_000411_rgb_anon  is night\n"
     ]
    },
    {
     "name": "stderr",
     "output_type": "stream",
     "text": [
      " 54%|█████▍    | 839/1550 [1:45:34<1:40:50,  8.51s/it]"
     ]
    },
    {
     "name": "stdout",
     "output_type": "stream",
     "text": [
      "GP010397_frame_000444_rgb_anon  is night\n"
     ]
    },
    {
     "name": "stderr",
     "output_type": "stream",
     "text": [
      " 54%|█████▍    | 840/1550 [1:45:44<1:45:54,  8.95s/it]"
     ]
    },
    {
     "name": "stdout",
     "output_type": "stream",
     "text": [
      "GP010397_frame_000464_rgb_anon  is night\n"
     ]
    },
    {
     "name": "stderr",
     "output_type": "stream",
     "text": [
      " 54%|█████▍    | 841/1550 [1:45:54<1:47:04,  9.06s/it]"
     ]
    },
    {
     "name": "stdout",
     "output_type": "stream",
     "text": [
      "GP010397_frame_000498_rgb_anon  is night\n"
     ]
    },
    {
     "name": "stderr",
     "output_type": "stream",
     "text": [
      " 54%|█████▍    | 842/1550 [1:46:01<1:42:31,  8.69s/it]"
     ]
    },
    {
     "name": "stdout",
     "output_type": "stream",
     "text": [
      "GP010397_frame_000558_rgb_anon  is night\n"
     ]
    },
    {
     "name": "stderr",
     "output_type": "stream",
     "text": [
      " 54%|█████▍    | 843/1550 [1:46:10<1:41:32,  8.62s/it]"
     ]
    },
    {
     "name": "stdout",
     "output_type": "stream",
     "text": [
      "GP010397_frame_000565_rgb_anon  is night\n"
     ]
    },
    {
     "name": "stderr",
     "output_type": "stream",
     "text": [
      " 54%|█████▍    | 844/1550 [1:46:18<1:39:15,  8.43s/it]"
     ]
    },
    {
     "name": "stdout",
     "output_type": "stream",
     "text": [
      "GP010397_frame_000577_rgb_anon  is night\n"
     ]
    },
    {
     "name": "stderr",
     "output_type": "stream",
     "text": [
      " 55%|█████▍    | 845/1550 [1:46:27<1:43:32,  8.81s/it]"
     ]
    },
    {
     "name": "stdout",
     "output_type": "stream",
     "text": [
      "GP010397_frame_000597_rgb_anon  is night\n"
     ]
    },
    {
     "name": "stderr",
     "output_type": "stream",
     "text": [
      " 55%|█████▍    | 846/1550 [1:46:37<1:47:30,  9.16s/it]"
     ]
    },
    {
     "name": "stdout",
     "output_type": "stream",
     "text": [
      "GP010397_frame_000630_rgb_anon  is night\n"
     ]
    },
    {
     "name": "stderr",
     "output_type": "stream",
     "text": [
      " 55%|█████▍    | 847/1550 [1:46:46<1:43:55,  8.87s/it]"
     ]
    },
    {
     "name": "stdout",
     "output_type": "stream",
     "text": [
      "GP010397_frame_000636_rgb_anon  is night\n"
     ]
    },
    {
     "name": "stderr",
     "output_type": "stream",
     "text": [
      " 55%|█████▍    | 848/1550 [1:46:54<1:42:25,  8.75s/it]"
     ]
    },
    {
     "name": "stdout",
     "output_type": "stream",
     "text": [
      "GP010397_frame_000663_rgb_anon  is night\n"
     ]
    },
    {
     "name": "stderr",
     "output_type": "stream",
     "text": [
      " 55%|█████▍    | 849/1550 [1:47:03<1:42:13,  8.75s/it]"
     ]
    },
    {
     "name": "stdout",
     "output_type": "stream",
     "text": [
      "GP010397_frame_000685_rgb_anon  is night\n"
     ]
    },
    {
     "name": "stderr",
     "output_type": "stream",
     "text": [
      " 55%|█████▍    | 850/1550 [1:47:11<1:39:18,  8.51s/it]"
     ]
    },
    {
     "name": "stdout",
     "output_type": "stream",
     "text": [
      "GP010397_frame_000697_rgb_anon  is night\n"
     ]
    },
    {
     "name": "stderr",
     "output_type": "stream",
     "text": [
      " 55%|█████▍    | 851/1550 [1:47:21<1:44:49,  9.00s/it]"
     ]
    },
    {
     "name": "stdout",
     "output_type": "stream",
     "text": [
      "GP010397_frame_000717_rgb_anon  is night\n"
     ]
    },
    {
     "name": "stderr",
     "output_type": "stream",
     "text": [
      " 55%|█████▍    | 852/1550 [1:47:31<1:47:53,  9.27s/it]"
     ]
    },
    {
     "name": "stdout",
     "output_type": "stream",
     "text": [
      "GP010397_frame_000728_rgb_anon  is night\n"
     ]
    },
    {
     "name": "stderr",
     "output_type": "stream",
     "text": [
      " 55%|█████▌    | 853/1550 [1:47:39<1:44:02,  8.96s/it]"
     ]
    },
    {
     "name": "stdout",
     "output_type": "stream",
     "text": [
      "GP010397_frame_000735_rgb_anon  is night\n"
     ]
    },
    {
     "name": "stderr",
     "output_type": "stream",
     "text": [
      " 55%|█████▌    | 854/1550 [1:47:48<1:43:33,  8.93s/it]"
     ]
    },
    {
     "name": "stdout",
     "output_type": "stream",
     "text": [
      "GP010397_frame_000775_rgb_anon  is night\n"
     ]
    },
    {
     "name": "stderr",
     "output_type": "stream",
     "text": [
      " 55%|█████▌    | 855/1550 [1:47:56<1:42:00,  8.81s/it]"
     ]
    },
    {
     "name": "stdout",
     "output_type": "stream",
     "text": [
      "GP010397_frame_000796_rgb_anon  is night\n"
     ]
    },
    {
     "name": "stderr",
     "output_type": "stream",
     "text": [
      " 55%|█████▌    | 856/1550 [1:48:03<1:34:08,  8.14s/it]"
     ]
    },
    {
     "name": "stdout",
     "output_type": "stream",
     "text": [
      "GP010397_frame_000800_rgb_anon  is night\n"
     ]
    },
    {
     "name": "stderr",
     "output_type": "stream",
     "text": [
      " 55%|█████▌    | 857/1550 [1:48:08<1:24:19,  7.30s/it]"
     ]
    },
    {
     "name": "stdout",
     "output_type": "stream",
     "text": [
      "GP010397_frame_000810_rgb_anon  is night\n"
     ]
    },
    {
     "name": "stderr",
     "output_type": "stream",
     "text": [
      " 55%|█████▌    | 858/1550 [1:48:15<1:20:32,  6.98s/it]"
     ]
    },
    {
     "name": "stdout",
     "output_type": "stream",
     "text": [
      "GP010397_frame_000835_rgb_anon  is night\n"
     ]
    },
    {
     "name": "stderr",
     "output_type": "stream",
     "text": [
      " 55%|█████▌    | 859/1550 [1:48:22<1:20:07,  6.96s/it]"
     ]
    },
    {
     "name": "stdout",
     "output_type": "stream",
     "text": [
      "GP010397_frame_000849_rgb_anon  is night\n"
     ]
    },
    {
     "name": "stderr",
     "output_type": "stream",
     "text": [
      " 55%|█████▌    | 860/1550 [1:48:27<1:15:13,  6.54s/it]"
     ]
    },
    {
     "name": "stdout",
     "output_type": "stream",
     "text": [
      "GP010397_frame_000864_rgb_anon  is night\n"
     ]
    },
    {
     "name": "stderr",
     "output_type": "stream",
     "text": [
      " 56%|█████▌    | 862/1550 [1:48:43<1:23:27,  7.28s/it]"
     ]
    },
    {
     "name": "stdout",
     "output_type": "stream",
     "text": [
      "GP010397_frame_000902_rgb_anon  is night\n"
     ]
    },
    {
     "name": "stderr",
     "output_type": "stream",
     "text": [
      " 56%|█████▌    | 863/1550 [1:48:49<1:18:35,  6.86s/it]"
     ]
    },
    {
     "name": "stdout",
     "output_type": "stream",
     "text": [
      "GP010397_frame_000906_rgb_anon  is night\n"
     ]
    },
    {
     "name": "stderr",
     "output_type": "stream",
     "text": [
      " 56%|█████▌    | 865/1550 [1:49:07<1:32:50,  8.13s/it]"
     ]
    },
    {
     "name": "stdout",
     "output_type": "stream",
     "text": [
      "GP010397_frame_000922_rgb_anon  is night\n"
     ]
    },
    {
     "name": "stderr",
     "output_type": "stream",
     "text": [
      " 56%|█████▌    | 866/1550 [1:49:16<1:33:39,  8.22s/it]"
     ]
    },
    {
     "name": "stdout",
     "output_type": "stream",
     "text": [
      "GP010397_frame_000938_rgb_anon  is night\n"
     ]
    },
    {
     "name": "stderr",
     "output_type": "stream",
     "text": [
      " 56%|█████▌    | 867/1550 [1:49:23<1:30:40,  7.97s/it]"
     ]
    },
    {
     "name": "stdout",
     "output_type": "stream",
     "text": [
      "GP010397_frame_000946_rgb_anon  is night\n"
     ]
    },
    {
     "name": "stderr",
     "output_type": "stream",
     "text": [
      " 56%|█████▌    | 868/1550 [1:49:30<1:25:27,  7.52s/it]"
     ]
    },
    {
     "name": "stdout",
     "output_type": "stream",
     "text": [
      "GP010397_frame_000950_rgb_anon  is night\n"
     ]
    },
    {
     "name": "stderr",
     "output_type": "stream",
     "text": [
      " 56%|█████▌    | 869/1550 [1:49:37<1:23:32,  7.36s/it]"
     ]
    },
    {
     "name": "stdout",
     "output_type": "stream",
     "text": [
      "GP010397_frame_000962_rgb_anon  is night\n"
     ]
    },
    {
     "name": "stderr",
     "output_type": "stream",
     "text": [
      " 56%|█████▌    | 870/1550 [1:49:43<1:20:41,  7.12s/it]"
     ]
    },
    {
     "name": "stdout",
     "output_type": "stream",
     "text": [
      "GP010397_frame_000970_rgb_anon  is night\n"
     ]
    },
    {
     "name": "stderr",
     "output_type": "stream",
     "text": [
      " 56%|█████▌    | 871/1550 [1:49:49<1:17:04,  6.81s/it]"
     ]
    },
    {
     "name": "stdout",
     "output_type": "stream",
     "text": [
      "GP010397_frame_000999_rgb_anon  is night\n"
     ]
    },
    {
     "name": "stderr",
     "output_type": "stream",
     "text": [
      " 56%|█████▋    | 872/1550 [1:49:58<1:25:07,  7.53s/it]"
     ]
    },
    {
     "name": "stdout",
     "output_type": "stream",
     "text": [
      "GP010397_frame_001006_rgb_anon  is night\n"
     ]
    },
    {
     "name": "stderr",
     "output_type": "stream",
     "text": [
      " 56%|█████▋    | 873/1550 [1:50:06<1:25:14,  7.56s/it]"
     ]
    },
    {
     "name": "stdout",
     "output_type": "stream",
     "text": [
      "GP010397_frame_001011_rgb_anon  is night\n"
     ]
    },
    {
     "name": "stderr",
     "output_type": "stream",
     "text": [
      " 56%|█████▋    | 874/1550 [1:50:14<1:27:15,  7.75s/it]"
     ]
    },
    {
     "name": "stdout",
     "output_type": "stream",
     "text": [
      "GP010397_frame_001019_rgb_anon  is night\n"
     ]
    },
    {
     "name": "stderr",
     "output_type": "stream",
     "text": [
      " 56%|█████▋    | 875/1550 [1:50:21<1:23:32,  7.43s/it]"
     ]
    },
    {
     "name": "stdout",
     "output_type": "stream",
     "text": [
      "GP010397_frame_001028_rgb_anon  is night\n"
     ]
    },
    {
     "name": "stderr",
     "output_type": "stream",
     "text": [
      " 57%|█████▋    | 876/1550 [1:50:27<1:20:27,  7.16s/it]"
     ]
    },
    {
     "name": "stdout",
     "output_type": "stream",
     "text": [
      "GP010397_frame_001042_rgb_anon  is night\n"
     ]
    },
    {
     "name": "stderr",
     "output_type": "stream",
     "text": [
      " 57%|█████▋    | 877/1550 [1:50:34<1:17:14,  6.89s/it]"
     ]
    },
    {
     "name": "stdout",
     "output_type": "stream",
     "text": [
      "GP010397_frame_001047_rgb_anon  is night\n"
     ]
    },
    {
     "name": "stderr",
     "output_type": "stream",
     "text": [
      " 58%|█████▊    | 894/1550 [1:52:51<1:31:31,  8.37s/it]"
     ]
    },
    {
     "name": "stdout",
     "output_type": "stream",
     "text": [
      "GP010400_frame_000112_rgb_anon  is night\n"
     ]
    },
    {
     "name": "stderr",
     "output_type": "stream",
     "text": [
      " 58%|█████▊    | 899/1550 [1:53:32<1:26:42,  7.99s/it]"
     ]
    },
    {
     "name": "stdout",
     "output_type": "stream",
     "text": [
      "GP010400_frame_000141_rgb_anon  is night\n"
     ]
    },
    {
     "name": "stderr",
     "output_type": "stream",
     "text": [
      " 58%|█████▊    | 904/1550 [1:54:11<1:24:15,  7.83s/it]"
     ]
    },
    {
     "name": "stdout",
     "output_type": "stream",
     "text": [
      "GP010400_frame_000169_rgb_anon  is night\n"
     ]
    },
    {
     "name": "stderr",
     "output_type": "stream",
     "text": [
      " 58%|█████▊    | 906/1550 [1:54:27<1:24:39,  7.89s/it]"
     ]
    },
    {
     "name": "stdout",
     "output_type": "stream",
     "text": [
      "GP010400_frame_000179_rgb_anon  is night\n"
     ]
    },
    {
     "name": "stderr",
     "output_type": "stream",
     "text": [
      " 59%|█████▊    | 910/1550 [1:55:00<1:27:00,  8.16s/it]"
     ]
    },
    {
     "name": "stdout",
     "output_type": "stream",
     "text": [
      "GP010400_frame_000420_rgb_anon  is night\n"
     ]
    },
    {
     "name": "stderr",
     "output_type": "stream",
     "text": [
      " 60%|█████▉    | 923/1550 [1:56:33<1:23:45,  8.02s/it]"
     ]
    },
    {
     "name": "stdout",
     "output_type": "stream",
     "text": [
      "GP010400_frame_000533_rgb_anon  is night\n"
     ]
    },
    {
     "name": "stderr",
     "output_type": "stream",
     "text": [
      " 71%|███████▏  | 1106/1550 [2:20:00<51:50,  7.01s/it]  "
     ]
    },
    {
     "name": "stdout",
     "output_type": "stream",
     "text": [
      "GP020397_frame_000001_rgb_anon  is night\n"
     ]
    },
    {
     "name": "stderr",
     "output_type": "stream",
     "text": [
      " 71%|███████▏  | 1107/1550 [2:20:07<51:35,  6.99s/it]"
     ]
    },
    {
     "name": "stdout",
     "output_type": "stream",
     "text": [
      "GP020397_frame_000030_rgb_anon  is night\n"
     ]
    },
    {
     "name": "stderr",
     "output_type": "stream",
     "text": [
      " 71%|███████▏  | 1108/1550 [2:20:16<55:53,  7.59s/it]"
     ]
    },
    {
     "name": "stdout",
     "output_type": "stream",
     "text": [
      "GP020397_frame_000042_rgb_anon  is night\n"
     ]
    },
    {
     "name": "stderr",
     "output_type": "stream",
     "text": [
      " 72%|███████▏  | 1109/1550 [2:20:25<59:24,  8.08s/it]"
     ]
    },
    {
     "name": "stdout",
     "output_type": "stream",
     "text": [
      "GP020397_frame_000069_rgb_anon  is night\n"
     ]
    },
    {
     "name": "stderr",
     "output_type": "stream",
     "text": [
      " 72%|███████▏  | 1110/1550 [2:20:33<58:33,  7.99s/it]"
     ]
    },
    {
     "name": "stdout",
     "output_type": "stream",
     "text": [
      "GP020397_frame_000079_rgb_anon  is night\n"
     ]
    },
    {
     "name": "stderr",
     "output_type": "stream",
     "text": [
      " 72%|███████▏  | 1111/1550 [2:20:39<54:12,  7.41s/it]"
     ]
    },
    {
     "name": "stdout",
     "output_type": "stream",
     "text": [
      "GP020397_frame_000087_rgb_anon  is night\n"
     ]
    },
    {
     "name": "stderr",
     "output_type": "stream",
     "text": [
      " 72%|███████▏  | 1112/1550 [2:20:47<55:22,  7.59s/it]"
     ]
    },
    {
     "name": "stdout",
     "output_type": "stream",
     "text": [
      "GP020397_frame_000111_rgb_anon  is night\n"
     ]
    },
    {
     "name": "stderr",
     "output_type": "stream",
     "text": [
      " 72%|███████▏  | 1113/1550 [2:20:56<58:12,  7.99s/it]"
     ]
    },
    {
     "name": "stdout",
     "output_type": "stream",
     "text": [
      "GP020397_frame_000116_rgb_anon  is night\n"
     ]
    },
    {
     "name": "stderr",
     "output_type": "stream",
     "text": [
      " 72%|███████▏  | 1114/1550 [2:21:03<56:02,  7.71s/it]"
     ]
    },
    {
     "name": "stdout",
     "output_type": "stream",
     "text": [
      "GP020397_frame_000121_rgb_anon  is night\n"
     ]
    },
    {
     "name": "stderr",
     "output_type": "stream",
     "text": [
      " 72%|███████▏  | 1115/1550 [2:21:10<54:28,  7.51s/it]"
     ]
    },
    {
     "name": "stdout",
     "output_type": "stream",
     "text": [
      "GP020397_frame_000147_rgb_anon  is night\n"
     ]
    },
    {
     "name": "stderr",
     "output_type": "stream",
     "text": [
      " 72%|███████▏  | 1116/1550 [2:21:19<56:04,  7.75s/it]"
     ]
    },
    {
     "name": "stdout",
     "output_type": "stream",
     "text": [
      "GP020397_frame_000167_rgb_anon  is night\n"
     ]
    },
    {
     "name": "stderr",
     "output_type": "stream",
     "text": [
      " 72%|███████▏  | 1117/1550 [2:21:27<57:31,  7.97s/it]"
     ]
    },
    {
     "name": "stdout",
     "output_type": "stream",
     "text": [
      "GP020397_frame_000177_rgb_anon  is night\n"
     ]
    },
    {
     "name": "stderr",
     "output_type": "stream",
     "text": [
      " 72%|███████▏  | 1118/1550 [2:21:36<59:53,  8.32s/it]"
     ]
    },
    {
     "name": "stdout",
     "output_type": "stream",
     "text": [
      "GP020397_frame_000191_rgb_anon  is night\n"
     ]
    },
    {
     "name": "stderr",
     "output_type": "stream",
     "text": [
      " 72%|███████▏  | 1119/1550 [2:21:44<58:35,  8.16s/it]"
     ]
    },
    {
     "name": "stdout",
     "output_type": "stream",
     "text": [
      "GP020397_frame_000202_rgb_anon  is night\n"
     ]
    },
    {
     "name": "stderr",
     "output_type": "stream",
     "text": [
      " 72%|███████▏  | 1120/1550 [2:21:50<53:08,  7.42s/it]"
     ]
    },
    {
     "name": "stdout",
     "output_type": "stream",
     "text": [
      "GP020397_frame_000236_rgb_anon  is night\n"
     ]
    },
    {
     "name": "stderr",
     "output_type": "stream",
     "text": [
      " 72%|███████▏  | 1121/1550 [2:21:56<51:00,  7.13s/it]"
     ]
    },
    {
     "name": "stdout",
     "output_type": "stream",
     "text": [
      "GP020397_frame_000241_rgb_anon  is night\n"
     ]
    },
    {
     "name": "stderr",
     "output_type": "stream",
     "text": [
      " 72%|███████▏  | 1122/1550 [2:22:03<50:27,  7.07s/it]"
     ]
    },
    {
     "name": "stdout",
     "output_type": "stream",
     "text": [
      "GP020397_frame_000256_rgb_anon  is night\n"
     ]
    },
    {
     "name": "stderr",
     "output_type": "stream",
     "text": [
      " 72%|███████▏  | 1123/1550 [2:22:09<48:33,  6.82s/it]"
     ]
    },
    {
     "name": "stdout",
     "output_type": "stream",
     "text": [
      "GP020397_frame_000261_rgb_anon  is night\n"
     ]
    },
    {
     "name": "stderr",
     "output_type": "stream",
     "text": [
      " 73%|███████▎  | 1124/1550 [2:22:16<47:11,  6.65s/it]"
     ]
    },
    {
     "name": "stdout",
     "output_type": "stream",
     "text": [
      "GP020397_frame_000266_rgb_anon  is night\n"
     ]
    },
    {
     "name": "stderr",
     "output_type": "stream",
     "text": [
      " 73%|███████▎  | 1125/1550 [2:22:22<47:08,  6.65s/it]"
     ]
    },
    {
     "name": "stdout",
     "output_type": "stream",
     "text": [
      "GP020397_frame_000281_rgb_anon  is night\n"
     ]
    },
    {
     "name": "stderr",
     "output_type": "stream",
     "text": [
      " 73%|███████▎  | 1126/1550 [2:22:30<49:58,  7.07s/it]"
     ]
    },
    {
     "name": "stdout",
     "output_type": "stream",
     "text": [
      "GP020397_frame_000286_rgb_anon  is night\n"
     ]
    },
    {
     "name": "stderr",
     "output_type": "stream",
     "text": [
      " 73%|███████▎  | 1127/1550 [2:22:38<50:24,  7.15s/it]"
     ]
    },
    {
     "name": "stdout",
     "output_type": "stream",
     "text": [
      "GP020397_frame_000291_rgb_anon  is night\n"
     ]
    },
    {
     "name": "stderr",
     "output_type": "stream",
     "text": [
      " 73%|███████▎  | 1128/1550 [2:22:46<52:28,  7.46s/it]"
     ]
    },
    {
     "name": "stdout",
     "output_type": "stream",
     "text": [
      "GP020397_frame_000322_rgb_anon  is night\n"
     ]
    },
    {
     "name": "stderr",
     "output_type": "stream",
     "text": [
      " 73%|███████▎  | 1129/1550 [2:22:52<49:00,  6.98s/it]"
     ]
    },
    {
     "name": "stdout",
     "output_type": "stream",
     "text": [
      "GP020397_frame_000326_rgb_anon  is night\n"
     ]
    },
    {
     "name": "stderr",
     "output_type": "stream",
     "text": [
      " 73%|███████▎  | 1130/1550 [2:22:57<45:19,  6.48s/it]"
     ]
    },
    {
     "name": "stdout",
     "output_type": "stream",
     "text": [
      "GP020397_frame_000330_rgb_anon  is night\n"
     ]
    },
    {
     "name": "stderr",
     "output_type": "stream",
     "text": [
      " 73%|███████▎  | 1131/1550 [2:23:04<45:28,  6.51s/it]"
     ]
    },
    {
     "name": "stdout",
     "output_type": "stream",
     "text": [
      "GP020397_frame_000335_rgb_anon  is night\n"
     ]
    },
    {
     "name": "stderr",
     "output_type": "stream",
     "text": [
      " 73%|███████▎  | 1132/1550 [2:23:11<46:47,  6.72s/it]"
     ]
    },
    {
     "name": "stdout",
     "output_type": "stream",
     "text": [
      "GP020397_frame_000345_rgb_anon  is night\n"
     ]
    },
    {
     "name": "stderr",
     "output_type": "stream",
     "text": [
      " 73%|███████▎  | 1133/1550 [2:23:20<51:55,  7.47s/it]"
     ]
    },
    {
     "name": "stdout",
     "output_type": "stream",
     "text": [
      "GP020397_frame_000379_rgb_anon  is night\n"
     ]
    },
    {
     "name": "stderr",
     "output_type": "stream",
     "text": [
      " 73%|███████▎  | 1134/1550 [2:23:27<51:08,  7.38s/it]"
     ]
    },
    {
     "name": "stdout",
     "output_type": "stream",
     "text": [
      "GP020397_frame_000385_rgb_anon  is night\n"
     ]
    },
    {
     "name": "stderr",
     "output_type": "stream",
     "text": [
      " 73%|███████▎  | 1135/1550 [2:23:33<47:59,  6.94s/it]"
     ]
    },
    {
     "name": "stdout",
     "output_type": "stream",
     "text": [
      "GP020397_frame_000400_rgb_anon  is night\n"
     ]
    },
    {
     "name": "stderr",
     "output_type": "stream",
     "text": [
      " 73%|███████▎  | 1136/1550 [2:23:40<48:06,  6.97s/it]"
     ]
    },
    {
     "name": "stdout",
     "output_type": "stream",
     "text": [
      "GP020397_frame_000410_rgb_anon  is night\n"
     ]
    },
    {
     "name": "stderr",
     "output_type": "stream",
     "text": [
      " 73%|███████▎  | 1137/1550 [2:23:48<49:01,  7.12s/it]"
     ]
    },
    {
     "name": "stdout",
     "output_type": "stream",
     "text": [
      "GP020397_frame_000420_rgb_anon  is night\n"
     ]
    },
    {
     "name": "stderr",
     "output_type": "stream",
     "text": [
      " 73%|███████▎  | 1138/1550 [2:23:56<51:18,  7.47s/it]"
     ]
    },
    {
     "name": "stdout",
     "output_type": "stream",
     "text": [
      "GP020397_frame_000425_rgb_anon  is night\n"
     ]
    },
    {
     "name": "stderr",
     "output_type": "stream",
     "text": [
      " 73%|███████▎  | 1139/1550 [2:24:04<52:47,  7.71s/it]"
     ]
    },
    {
     "name": "stdout",
     "output_type": "stream",
     "text": [
      "GP020397_frame_000443_rgb_anon  is night\n"
     ]
    },
    {
     "name": "stderr",
     "output_type": "stream",
     "text": [
      " 74%|███████▎  | 1140/1550 [2:24:11<50:38,  7.41s/it]"
     ]
    },
    {
     "name": "stdout",
     "output_type": "stream",
     "text": [
      "GP020397_frame_000448_rgb_anon  is night\n"
     ]
    },
    {
     "name": "stderr",
     "output_type": "stream",
     "text": [
      " 74%|███████▎  | 1141/1550 [2:24:18<49:07,  7.21s/it]"
     ]
    },
    {
     "name": "stdout",
     "output_type": "stream",
     "text": [
      "GP020397_frame_000459_rgb_anon  is night\n"
     ]
    },
    {
     "name": "stderr",
     "output_type": "stream",
     "text": [
      " 74%|███████▎  | 1142/1550 [2:24:25<49:09,  7.23s/it]"
     ]
    },
    {
     "name": "stdout",
     "output_type": "stream",
     "text": [
      "GP020397_frame_000479_rgb_anon  is night\n"
     ]
    },
    {
     "name": "stderr",
     "output_type": "stream",
     "text": [
      " 74%|███████▎  | 1143/1550 [2:24:33<51:20,  7.57s/it]"
     ]
    },
    {
     "name": "stdout",
     "output_type": "stream",
     "text": [
      "GP020397_frame_000499_rgb_anon  is night\n"
     ]
    },
    {
     "name": "stderr",
     "output_type": "stream",
     "text": [
      " 74%|███████▍  | 1144/1550 [2:24:41<51:37,  7.63s/it]"
     ]
    },
    {
     "name": "stdout",
     "output_type": "stream",
     "text": [
      "GP020397_frame_000531_rgb_anon  is night\n"
     ]
    },
    {
     "name": "stderr",
     "output_type": "stream",
     "text": [
      " 74%|███████▍  | 1145/1550 [2:24:47<48:01,  7.12s/it]"
     ]
    },
    {
     "name": "stdout",
     "output_type": "stream",
     "text": [
      "GP020397_frame_000551_rgb_anon  is night\n"
     ]
    },
    {
     "name": "stderr",
     "output_type": "stream",
     "text": [
      " 74%|███████▍  | 1146/1550 [2:24:53<46:32,  6.91s/it]"
     ]
    },
    {
     "name": "stdout",
     "output_type": "stream",
     "text": [
      "GP020397_frame_000611_rgb_anon  is night\n"
     ]
    },
    {
     "name": "stderr",
     "output_type": "stream",
     "text": [
      " 74%|███████▍  | 1147/1550 [2:25:00<46:14,  6.89s/it]"
     ]
    },
    {
     "name": "stdout",
     "output_type": "stream",
     "text": [
      "GP020397_frame_000631_rgb_anon  is night\n"
     ]
    },
    {
     "name": "stderr",
     "output_type": "stream",
     "text": [
      " 74%|███████▍  | 1148/1550 [2:25:08<47:47,  7.13s/it]"
     ]
    },
    {
     "name": "stdout",
     "output_type": "stream",
     "text": [
      "GP020397_frame_000643_rgb_anon  is night\n"
     ]
    },
    {
     "name": "stderr",
     "output_type": "stream",
     "text": [
      " 74%|███████▍  | 1149/1550 [2:25:14<46:21,  6.94s/it]"
     ]
    },
    {
     "name": "stdout",
     "output_type": "stream",
     "text": [
      "GP020397_frame_000723_rgb_anon  is night\n"
     ]
    },
    {
     "name": "stderr",
     "output_type": "stream",
     "text": [
      " 77%|███████▋  | 1187/1550 [2:30:19<37:48,  6.25s/it]  "
     ]
    },
    {
     "name": "stdout",
     "output_type": "stream",
     "text": [
      "GP020400_frame_000501_rgb_anon  is night\n"
     ]
    },
    {
     "name": "stderr",
     "output_type": "stream",
     "text": [
      " 77%|███████▋  | 1194/1550 [2:31:11<43:53,  7.40s/it]"
     ]
    },
    {
     "name": "stdout",
     "output_type": "stream",
     "text": [
      "GP020400_frame_000551_rgb_anon  is night\n"
     ]
    },
    {
     "name": "stderr",
     "output_type": "stream",
     "text": [
      " 91%|█████████ | 1410/1550 [2:59:33<20:53,  8.95s/it]"
     ]
    },
    {
     "name": "stdout",
     "output_type": "stream",
     "text": [
      "GP030400_frame_000005_rgb_anon  is night\n"
     ]
    },
    {
     "name": "stderr",
     "output_type": "stream",
     "text": [
      "100%|██████████| 1550/1550 [3:20:22<00:00,  7.76s/it]\n"
     ]
    }
   ],
   "source": [
    "fusion = Fusion_ACDC(mask_folder, segmentation_folder, confidence_folder, entropy_folder, \\\n",
    "                image_folder, gt_folder, num_classes, sky_center_rect, road_center_rect, \\\n",
    "                mix_ratio, resize_ratio, output_folder, mask_suffix, \\\n",
    "                segmentation_suffix, segmentation_suffix_noimg, \\\n",
    "                confidence_suffix, entropy_suffix, gt_suffix, daytime_threshold, \\\n",
    "                fusion_mode, sam_classes, shrink_num, display_size)\n",
    "\n",
    "\n",
    "index_range = list(range(begin_index, begin_index + debug_num))\n",
    "iou_cal = SegmentationMetrics(num_classes=num_classes)\n",
    "\n",
    "if save_all_fusion:\n",
    "    f1_output_folder = os.path.join(output_folder, 'fusion1_trainid')\n",
    "    f2_output_folder = os.path.join(output_folder, 'fusion2_trainid')\n",
    "    f3_output_folder = os.path.join(output_folder, 'fusion3_trainid')\n",
    "    f4_output_folder = os.path.join(output_folder, 'fusion4_trainid')\n",
    "    f5_output_folder = os.path.join(output_folder, 'fusion5_trainid')\n",
    "    if not os.path.exists(f1_output_folder):\n",
    "        os.makedirs(f1_output_folder, exist_ok=True)\n",
    "    if not os.path.exists(f2_output_folder):\n",
    "        os.makedirs(f2_output_folder, exist_ok=True)\n",
    "    if not os.path.exists(f3_output_folder):\n",
    "        os.makedirs(f3_output_folder, exist_ok=True)\n",
    "    if not os.path.exists(f4_output_folder):\n",
    "        os.makedirs(f4_output_folder, exist_ok=True)\n",
    "    if not os.path.exists(f5_output_folder):\n",
    "        os.makedirs(f5_output_folder, exist_ok=True)    \n",
    "    \n",
    "\n",
    "bar = tqdm.tqdm(total=debug_num)\n",
    "for i in index_range:\n",
    "    image_name = fusion.image_names[i]  # GOPR0122_frame_000161_rgb_anon\n",
    "    # get the prediction\n",
    "    prediction_path = os.path.join(fusion.segmentation_folder, \\\n",
    "        image_name + fusion.segmentation_suffix)  #GOPR0122_frame_000161_rgb_anon.png\n",
    "    if fusion.segmentation_suffix_noimg:\n",
    "        prediction_path = prediction_path.replace('_leftImg8bit', '')\n",
    "    pred = cv2.imread(prediction_path) #[h, w, 3], 3 channels not 1 channel\n",
    "    pred_color = fusion.color_segmentation(pred[:,:,0])\n",
    "    \n",
    "    # get the confidence map\n",
    "    confidence_path = os.path.join(fusion.confidence_folder, \\\n",
    "        image_name + fusion.confidence_suffix)  # GOPR0122_frame_000161_rgb_anon_confi.npy\n",
    "    pred_confidence = np.load(confidence_path)  # [h, w]\n",
    "    \n",
    "    # get the entropy map\n",
    "    entropy_path = os.path.join(fusion.entropy_folder, \\\n",
    "        image_name + fusion.entropy_suffix)  # GOPR0122_frame_000161_rgb_anon_entro.npy\n",
    "    pred_entropy = np.load(entropy_path)  # [h, w]\n",
    "    \n",
    "    # get the ground truth\n",
    "    gt_path = os.path.join(fusion.gt_folder, \\\n",
    "        image_name.replace('_rgb_anon', '') + fusion.gt_suffix)\n",
    "    gt = cv2.imread(gt_path) #[h, w, 3]\n",
    "    # print(np.unique(gt))\n",
    "    gt_color = fusion.color_segmentation(gt[:,:,0])\n",
    "\n",
    "    #get the original image\n",
    "    original_image = cv2.imread(os.path.join(fusion.image_folder, \\\n",
    "        image_name + fusion.mask_suffix))\n",
    "    \n",
    "    # get the confidence map and entropy map\n",
    "    pred_confidence = pred_confidence.astype(np.float32)\n",
    "    pred_entropy = pred_entropy.astype(np.float32)\n",
    "    confidence_map = fusion.visualize_numpy(pred_confidence)\n",
    "    entropy_map = fusion.visualize_numpy(pred_entropy)\n",
    "    confidence_mask, confidence_img = fusion.visualize_numpy_higher_threshold(pred_confidence, \n",
    "                                                            original_image, confidence_threshold)\n",
    "    entropy_threshold = np.percentile(pred_entropy, entropy_ratio)\n",
    "        \n",
    "    entropy_mask, entropy_img = fusion.visualize_numpy_lower_threshold(pred_entropy, \n",
    "                                                         original_image, entropy_threshold)\n",
    "\n",
    "    #get the sam segmentation result using the mask\n",
    "\n",
    "    fusion.is_daytime(original_image)\n",
    "    if not fusion.daytime:\n",
    "        print(image_name, ' is night')\n",
    "    # DEBUG(cxy):多添加参数original_image\n",
    "    sam_pred = fusion.get_sam_pred(image_name, pred, confidence_mask, entropy_mask)  # [h,w]\n",
    "    sam_color = fusion.color_segmentation(sam_pred)  # [h,w,3]\n",
    "\n",
    "    #get the sam mixed color image using the fusion.mix_ratio\n",
    "    sam_mixed_color = cv2.addWeighted(original_image, \\\n",
    "        fusion.mix_ratio, sam_color, 1 - fusion.mix_ratio, 0)\n",
    "    if fusion.resize_ratio != 1:\n",
    "        sam_mixed_color = cv2.resize(sam_mixed_color, \\\n",
    "        (int(sam_mixed_color.shape[1] * fusion.resize_ratio), \\\n",
    "        int(sam_mixed_color.shape[0] * fusion.resize_ratio)), \\\n",
    "        interpolation=cv2.INTER_NEAREST)\n",
    "\n",
    "    if save_mix_result:\n",
    "        #save the sam mask in trainid and color to the output folder\n",
    "        cv2.imwrite(os.path.join(fusion.output_folder, 'trainID', image_name + fusion.mask_suffix), sam_pred)\n",
    "        # cv2.imwrite(os.path.join(fusion.output_folder, 'color', image_name + fusion.mask_suffix), fusion_color)\n",
    "        cv2.imwrite(os.path.join(fusion.output_folder, 'mixed', image_name + fusion.mask_suffix), sam_mixed_color)\n",
    "    \n",
    "        if fusion.fusion_mode == 1:\n",
    "            fusion_trainid_bg, fusion_color_bg = fusion.fusion_mode_1(segmentation=pred, sam_pred=sam_pred)\n",
    "        elif fusion.fusion_mode == 2:\n",
    "            fusion_trainid_bg, fusion_color_bg = fusion.fusion_mode_2(segmentation=pred, sam_pred=sam_pred)\n",
    "        elif fusion.fusion_mode == 3:\n",
    "            fusion_trainid_bg, fusion_color_bg = fusion.fusion_mode_3(segmentation=pred, sam_pred=sam_pred)\n",
    "        elif fusion.fusion_mode == 4:\n",
    "            fusion_trainid_bg, fusion_color_bg = fusion.fusion_mode_4(segmentation=pred, sam_pred=sam_pred, confidence_mask=confidence_mask)\n",
    "        elif fusion.fusion_mode == 5:\n",
    "            fusion_trainid_bg, fusion_color_bg = fusion.fusion_mode_5(segmentation=pred, sam_pred=sam_pred, entropy_mask=entropy_mask)\n",
    "        else:\n",
    "            # raise NotImplementedError\n",
    "            raise NotImplementedError(\"This fusion mode has not been implemented yet.\")\n",
    "    \n",
    "        #save the fusion mask in trainid and color to the output folder\n",
    "        mixed_color_bg = cv2.addWeighted(original_image, fusion.mix_ratio, fusion_color_bg, 1 - fusion.mix_ratio, 0)\n",
    "        if fusion.resize_ratio != 1:\n",
    "            mixed_color_bg = cv2.resize(mixed_color_bg, (int(mixed_color_bg.shape[1] * fusion.resize_ratio), int(mixed_color_bg.shape[0] * fusion.resize_ratio)), interpolation=cv2.INTER_NEAREST)\n",
    "        cv2.imwrite(os.path.join(fusion.output_folder, 'trainID_bg', image_name + fusion.mask_suffix), fusion_trainid_bg)\n",
    "        # cv2.imwrite(os.path.join(fusion.output_folder, 'color_bg', image_name + fusion.mask_suffix), fusion_color_bg)\n",
    "        cv2.imwrite(os.path.join(fusion.output_folder, 'mixed_bg', image_name + fusion.mask_suffix), mixed_color_bg)\n",
    "\n",
    "    #get fusion result from 1, 2, 3, 4, 5\n",
    "    fusion_trainid_bg_1, fusion_color_bg_1 = \\\n",
    "        fusion.fusion_mode_1(segmentation=pred, sam_pred=sam_pred)\n",
    "    fusion_trainid_bg_2, fusion_color_bg_2 = \\\n",
    "        fusion.fusion_mode_2(segmentation=pred, sam_pred=sam_pred)\n",
    "    fusion_trainid_bg_3, fusion_color_bg_3 = \\\n",
    "        fusion.fusion_mode_3(segmentation=pred, sam_pred=sam_pred, fusion_trainid=fusion_trainid_bg_1,\n",
    "                             confidence_mask=confidence_mask, entropy_mask=entropy_mask)\n",
    "    fusion_trainid_bg_4, fusion_color_bg_4 = \\\n",
    "        fusion.fusion_mode_4(segmentation=pred, sam_pred=sam_pred, \\\n",
    "                             fusion_trainid=fusion_trainid_bg_3, confidence_mask=confidence_mask)\n",
    "    fusion_trainid_bg_5, fusion_color_bg_5 = \\\n",
    "        fusion.fusion_mode_5(segmentation=pred, sam_pred=sam_pred, \\\n",
    "                             fusion_trainid=fusion_trainid_bg_3, entropy_mask=entropy_mask)\n",
    "    \n",
    "    miou_0, ious_0 = iou_cal.calculate_miou(pred[:, :, 0], gt[:, :, 0])\n",
    "    miou_1, ious_1 = iou_cal.calculate_miou(fusion_trainid_bg_1, gt[:,:,0])\n",
    "    miou_2, ious_2 = iou_cal.calculate_miou(fusion_trainid_bg_2, gt[:,:,0])\n",
    "    miou_3, ious_3 = iou_cal.calculate_miou(fusion_trainid_bg_3, gt[:,:,0])\n",
    "    miou_4, ious_4 = iou_cal.calculate_miou(fusion_trainid_bg_4, gt[:,:,0])\n",
    "    miou_5, ious_5 = iou_cal.calculate_miou(fusion_trainid_bg_5, gt[:,:,0])\n",
    "    \n",
    "    error_0 = fusion.get_error_image(pred[:,:,0], gt[:,:,0], pred_color)\n",
    "    error_1 = fusion.get_error_image(fusion_trainid_bg_1, gt[:,:,0], fusion_color_bg_1)\n",
    "    error_2 = fusion.get_error_image(fusion_trainid_bg_2, gt[:,:,0], fusion_color_bg_2)\n",
    "    error_3 = fusion.get_error_image(fusion_trainid_bg_3, gt[:,:,0], fusion_color_bg_3)\n",
    "    error_4 = fusion.get_error_image(fusion_trainid_bg_4, gt[:,:,0], fusion_color_bg_4)\n",
    "    error_5 = fusion.get_error_image(fusion_trainid_bg_5, gt[:,:,0], fusion_color_bg_5)\n",
    "    \n",
    "    # fusion.display_images_horizontally([gt_color, sam_color, pred_color, fusion_color_bg_0], '{}_fusion0'.format(image_name.replace('_leftImg8bit', '')), miou_0)\n",
    "    fusion.display_images_horizontally(\n",
    "        [original_image, gt_color, sam_color, pred_color, error_0, \\\n",
    "         fusion_color_bg_1, fusion_color_bg_2, fusion_color_bg_3, fusion_color_bg_4, fusion_color_bg_5, \\\n",
    "         error_1, error_2, error_3, error_4, error_5, \\\n",
    "         confidence_map, entropy_map, confidence_img, entropy_img], \\\n",
    "        '{}'.format(image_name.replace('_leftImg8bit', '')), \\\n",
    "        [(miou_0, ious_0), (miou_1, ious_1), (miou_2, ious_2), \\\n",
    "         (miou_3, ious_3), (miou_4, ious_4), (miou_5, ious_5)], \\\n",
    "        [confidence_threshold, entropy_threshold])\n",
    "    fusion.save_ious(miou_0, ious_0, miou_1, ious_1, miou_2, ious_2,  miou_3, ious_3, miou_4, ious_4, \\\n",
    "                     miou_5, ious_5, '{}'.format(image_name.replace('_leftImg8bit', '')))\n",
    "    if save_all_fusion:\n",
    "        cv2.imwrite(os.path.join(f1_output_folder, image_name + fusion.mask_suffix), fusion_trainid_bg_1)\n",
    "        cv2.imwrite(os.path.join(f2_output_folder, image_name + fusion.mask_suffix), fusion_trainid_bg_2)\n",
    "        cv2.imwrite(os.path.join(f3_output_folder, image_name + fusion.mask_suffix), fusion_trainid_bg_3)\n",
    "        cv2.imwrite(os.path.join(f4_output_folder, image_name + fusion.mask_suffix), fusion_trainid_bg_4)\n",
    "        cv2.imwrite(os.path.join(f5_output_folder, image_name + fusion.mask_suffix), fusion_trainid_bg_5)\n",
    "    bar.update(1)\n",
    "bar.close()"
   ]
  }
 ],
 "metadata": {
  "kernelspec": {
   "display_name": "sam",
   "language": "python",
   "name": "python3"
  },
  "language_info": {
   "codemirror_mode": {
    "name": "ipython",
    "version": 3
   },
   "file_extension": ".py",
   "mimetype": "text/x-python",
   "name": "python",
   "nbconvert_exporter": "python",
   "pygments_lexer": "ipython3",
   "version": "3.8.5"
  },
  "orig_nbformat": 4
 },
 "nbformat": 4,
 "nbformat_minor": 2
}
