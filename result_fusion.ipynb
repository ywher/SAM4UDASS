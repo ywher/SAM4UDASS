{
 "cells": [
  {
   "cell_type": "code",
   "execution_count": null,
   "metadata": {},
   "outputs": [],
   "source": [
    "# import the needed packages\n",
    "from result_fusion import Fusion\n",
    "from result_fusion import Fusion2"
   ]
  },
  {
   "cell_type": "code",
   "execution_count": null,
   "metadata": {},
   "outputs": [],
   "source": [
    "# define the folder path and parameters\n",
    "# train2 is the folder of the generated mask, preciser\n",
    "# train is the folder of the generated mask, default sam params\n",
    "mask_folder = '/media/ywh/1/yanweihao/projects/segmentation/segment-anything/outputs/cityscapes/train2'\n",
    "# the path to the model prediction\n",
    "segmentation_folder = '/media/ywh/1/yanweihao/projects/uda/DAFormer/work_dirs/local-exp7/230522_2312_gta2cs_dacs_a999_fdthings_rcs001_cpl_daformer_sepaspp_mitb5_poly10warm_s0_ea659/trainid'\n",
    "# the path to the original image\n",
    "image_folder = '/media/ywh/1/yanweihao/dataset/cityscapes_original/gtFine_trainvaltest/leftImg8bit/train_all'\n",
    "# \n",
    "mix_ratio = 0.5\n",
    "# \n",
    "resize_ratio = 0.5\n",
    "# \n",
    "output_folder = 'outputs/cityscapes/debug'\n",
    "# \n",
    "mask_suffix = '.png'\n",
    "# \n",
    "segmentation_suffix ='trainID.png'\n",
    "# \n",
    "segmentation_suffix_noimg=False\n",
    "# \n",
    "fusion_mode = 1\n",
    "# \n",
    "sam_classes = [5, 6, 7, 11, 12, 13, 14, 15, 16, 17, 18]\n",
    "# \n",
    "shrink_num = 2"
   ]
  },
  {
   "cell_type": "code",
   "execution_count": null,
   "metadata": {},
   "outputs": [],
   "source": [
    "fusion = Fusion2(mask_folder, segmentation_folder, image_folder, mix_ratio, resize_ratio, output_folder, mask_suffix, segmentation_suffix, segmentation_suffix_noimg, fusion_mode, sam_classes, shrink_num)"
   ]
  }
 ],
 "metadata": {
  "language_info": {
   "name": "python"
  },
  "orig_nbformat": 4
 },
 "nbformat": 4,
 "nbformat_minor": 2
}
